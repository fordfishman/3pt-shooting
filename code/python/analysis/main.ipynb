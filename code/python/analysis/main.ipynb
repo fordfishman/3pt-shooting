{
 "cells": [
  {
   "cell_type": "markdown",
   "metadata": {},
   "source": [
    "# 3pt data exploration"
   ]
  },
  {
   "cell_type": "code",
   "execution_count": 45,
   "metadata": {},
   "outputs": [],
   "source": [
    "import numpy as np\n",
    "import pandas as pd\n",
    "import matplotlib.pyplot as plt\n",
    "import sys\n",
    "# from copy import deepcopy"
   ]
  },
  {
   "cell_type": "code",
   "execution_count": 46,
   "metadata": {},
   "outputs": [],
   "source": [
    "sys.path.append(r\"/Users/fordfishman/GitHub/3pt-shooting/code/python/\")\n",
    "from basketball_reference_scraper.teams import get_roster_stats\n",
    "\n"
   ]
  },
  {
   "cell_type": "code",
   "execution_count": 47,
   "metadata": {},
   "outputs": [],
   "source": [
    "year_range = list( range(2010, 2022) )\n",
    "team_abr = [\n",
    "    'ATL',\n",
    "    'BRK',\n",
    "    'BOS',\n",
    "    'CHA',\n",
    "    'CHI',\n",
    "    'CLE',\n",
    "    'DAL',\n",
    "    'DEN',\n",
    "    'DET',\n",
    "    'GSW',\n",
    "    'HOU',\n",
    "    'IND',\n",
    "    'LAC',\n",
    "    'LAL',\n",
    "    'MEM',\n",
    "    'MIA',\n",
    "    'MIL',\n",
    "    'MIN',\n",
    "    'NOP',\n",
    "    'NYK',\n",
    "    'OKC',\n",
    "    'ORL',\n",
    "    'PHI',\n",
    "    'PHO',\n",
    "    'POR',\n",
    "    'SAC',\n",
    "    'SAS',\n",
    "    'TOR',\n",
    "    'UTA',\n",
    "    'WAS',\n",
    "    ]\n",
    "\n",
    "\n"
   ]
  },
  {
   "cell_type": "code",
   "execution_count": 51,
   "metadata": {},
   "outputs": [],
   "source": [
    "def player_index(names, seasons):\n",
    "\n",
    "    indices = list()\n",
    "\n",
    "    for i in range(len(names)):\n",
    "\n",
    "        name = names[i].replace(' ', '')\n",
    "        indices.append( '%s%s' % (name, seasons[i]) )\n",
    "\n",
    "    return indices\n",
    "    \n",
    "def get_data(mode):\n",
    "\n",
    "    df = get_roster_stats('GSW', 2021, mode)\n",
    "    df = pd.DataFrame().reindex(columns=df.columns)\n",
    "\n",
    "    for year in year_range:\n",
    "        for team in team_abr:\n",
    "\n",
    "            df_i = get_roster_stats(team, year, mode)\n",
    "            df_i['index'] = player_index(df_i.PLAYER, df_i.SEASON)\n",
    "            df = df.append(df_i, ignore_index=True)\n",
    "\n",
    "    return df\n"
   ]
  },
  {
   "cell_type": "code",
   "execution_count": 52,
   "metadata": {},
   "outputs": [],
   "source": [
    "df_adv = get_data('ADVANCED')\n",
    "# df_tot = get_data('TOTALS')\n",
    "# df_poss = get_data('PER_POSS')\n",
    "df_adv.to_csv(\"~/GitHub/3pt-shooting/data/allplayer_adv.csv\", index=False)\n",
    "# df_poss.to_csv(\"~/GitHub/3pt-shooting/data/allplayer_poss.csv\", index=False)\n",
    "# df_tot.to_csv(\"~/GitHub/3pt-shooting/data/allplayer_tot.csv\", index=False)"
   ]
  },
  {
   "cell_type": "code",
   "execution_count": 34,
   "metadata": {},
   "outputs": [
    {
     "data": {
      "text/plain": [
       "Index(['PLAYER', 'POS', 'AGE', 'TEAM', 'G', 'GS', 'MP', 'FG', 'FGA', 'FG%',\n",
       "       '3P', '3PA', '3P%', '2P', '2PA', '2P%', 'FT', 'FTA', 'FT%', 'ORB',\n",
       "       'DRB', 'TRB', 'AST', 'STL', 'BLK', 'TOV', 'PF', 'PTS', 'Unnamed: 29',\n",
       "       'ORtg', 'DRtg', 'SEASON', 'index'],\n",
       "      dtype='object')"
      ]
     },
     "execution_count": 34,
     "metadata": {},
     "output_type": "execute_result"
    }
   ],
   "source": [
    "# df_poss = pd.read_csv(\"/Users/fordfishman/GitHub/3pt-shooting/data/allplayer_poss.csv\")\n",
    "df_poss.columns"
   ]
  },
  {
   "cell_type": "markdown",
   "metadata": {},
   "source": [
    "have to get combine player data from in-season trades\n",
    "then prune data for attempts\n",
    "then prune for consecutive seasons"
   ]
  },
  {
   "cell_type": "code",
   "execution_count": 43,
   "metadata": {},
   "outputs": [
    {
     "data": {
      "text/plain": [
       "Index(['PLAYER', 'POS', 'AGE', 'TEAM', 'G', 'GS', 'MP', 'FG', 'FGA', 'FG%',\n",
       "       '3P', '3PA', '3P%', '2P', '2PA', '2P%', 'FT', 'FTA', 'FT%', 'ORB',\n",
       "       'DRB', 'TRB', 'AST', 'STL', 'BLK', 'TOV', 'PF', 'PTS', 'Unnamed: 29',\n",
       "       'ORtg', 'DRtg', 'SEASON', 'index'],\n",
       "      dtype='object')"
      ]
     },
     "execution_count": 43,
     "metadata": {},
     "output_type": "execute_result"
    }
   ],
   "source": [
    "# df_adv = pd.read_csv(\"/Users/fordfishman/GitHub/3pt-shooting/data/allplayer_adv.csv\")\n",
    "df_adv.columns"
   ]
  },
  {
   "cell_type": "code",
   "execution_count": 39,
   "metadata": {},
   "outputs": [
    {
     "data": {
      "text/plain": [
       "Index(['PLAYER', 'POS', 'AGE', 'TEAM', 'G', 'GS', 'MP', 'FG', 'FGA', 'FG%',\n",
       "       '3P', '3PA', '3P%', '2P', '2PA', '2P%', 'FT', 'FTA', 'FT%', 'ORB',\n",
       "       'DRB', 'TRB', 'AST', 'STL', 'BLK', 'TOV', 'PF', 'PTS', 'Unnamed: 29',\n",
       "       'ORtg', 'DRtg', 'SEASON', 'eFG%', 'index'],\n",
       "      dtype='object')"
      ]
     },
     "execution_count": 39,
     "metadata": {},
     "output_type": "execute_result"
    }
   ],
   "source": [
    "# df_tot = pd.read_csv(\"/Users/fordfishman/GitHub/3pt-shooting/data/allplayer_tot.csv\")\n",
    "df_tot.columns"
   ]
  },
  {
   "cell_type": "code",
   "execution_count": 40,
   "metadata": {},
   "outputs": [],
   "source": [
    "df_tot = df_tot.drop(['Unnamed: 29'], axis=1)\n",
    "df_poss = df_poss.drop(['Unnamed: 29'], axis=1)\n",
    "df_adv = df_adv.drop(['Unnamed: 29'], axis=1)"
   ]
  },
  {
   "cell_type": "markdown",
   "metadata": {},
   "source": []
  },
  {
   "cell_type": "code",
   "execution_count": 42,
   "metadata": {},
   "outputs": [
    {
     "data": {
      "text/plain": [
       "0       True\n",
       "1       True\n",
       "2       True\n",
       "3       True\n",
       "4       True\n",
       "        ... \n",
       "6724    True\n",
       "6725    True\n",
       "6726    True\n",
       "6727    True\n",
       "6728    True\n",
       "Name: GS, Length: 6729, dtype: bool"
      ]
     },
     "execution_count": 42,
     "metadata": {},
     "output_type": "execute_result"
    }
   ],
   "source": [
    "df_tot.GS == df_poss.GS"
   ]
  }
 ],
 "metadata": {
  "interpreter": {
   "hash": "be6edde37a6fc54c3e82115312c1c05bb7d756105533cab5a4d7b6caba68005d"
  },
  "kernelspec": {
   "display_name": "Python 3.9.7 64-bit ('3pt': conda)",
   "language": "python",
   "name": "python3"
  },
  "language_info": {
   "codemirror_mode": {
    "name": "ipython",
    "version": 3
   },
   "file_extension": ".py",
   "mimetype": "text/x-python",
   "name": "python",
   "nbconvert_exporter": "python",
   "pygments_lexer": "ipython3",
   "version": "3.9.7"
  },
  "orig_nbformat": 4
 },
 "nbformat": 4,
 "nbformat_minor": 2
}
