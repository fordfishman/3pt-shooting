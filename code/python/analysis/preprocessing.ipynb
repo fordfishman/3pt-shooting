{
 "cells": [
  {
   "cell_type": "markdown",
   "metadata": {},
   "source": [
    "# 3pt data exploration"
   ]
  },
  {
   "cell_type": "code",
   "execution_count": 84,
   "metadata": {},
   "outputs": [],
   "source": [
    "import numpy as np\n",
    "import pandas as pd\n",
    "import matplotlib.pyplot as plt\n",
    "import sys\n",
    "from copy import deepcopy"
   ]
  },
  {
   "cell_type": "code",
   "execution_count": 20,
   "metadata": {},
   "outputs": [],
   "source": [
    "# sys.path.append(r\"/Users/fordfishman/GitHub/3pt-shooting/code/python/\")\n",
    "sys.path.append(r\"/home/fordfishman/GitHub/3pt-shooting/code/python/\")\n",
    "from basketball_reference_scraper.teams import get_roster_stats\n",
    "\n"
   ]
  },
  {
   "cell_type": "code",
   "execution_count": 21,
   "metadata": {},
   "outputs": [],
   "source": [
    "year_range = list( range(2010, 2022) )\n",
    "team_abr = [\n",
    "    'ATL',\n",
    "    'BRK',\n",
    "    'BOS',\n",
    "    'CHA',\n",
    "    'CHI',\n",
    "    'CLE',\n",
    "    'DAL',\n",
    "    'DEN',\n",
    "    'DET',\n",
    "    'GSW',\n",
    "    'HOU',\n",
    "    'IND',\n",
    "    'LAC',\n",
    "    'LAL',\n",
    "    'MEM',\n",
    "    'MIA',\n",
    "    'MIL',\n",
    "    'MIN',\n",
    "    'NOP',\n",
    "    'NYK',\n",
    "    'OKC',\n",
    "    'ORL',\n",
    "    'PHI',\n",
    "    'PHO',\n",
    "    'POR',\n",
    "    'SAC',\n",
    "    'SAS',\n",
    "    'TOR',\n",
    "    'UTA',\n",
    "    'WAS',\n",
    "    ]\n",
    "\n",
    "\n"
   ]
  },
  {
   "cell_type": "code",
   "execution_count": 22,
   "metadata": {},
   "outputs": [],
   "source": [
    "def player_index(names, seasons):\n",
    "\n",
    "    indices = list()\n",
    "\n",
    "    for i in range(len(names)):\n",
    "\n",
    "        name = names[i].replace(' ', '')\n",
    "        indices.append( '%s%s' % (name, seasons[i]) )\n",
    "\n",
    "    return indices\n",
    "    \n",
    "def get_data(mode):\n",
    "\n",
    "    df = get_roster_stats('GSW', 2021, mode)\n",
    "    df = pd.DataFrame().reindex(columns=df.columns)\n",
    "\n",
    "    for year in year_range:\n",
    "        for team in team_abr:\n",
    "\n",
    "            df_i = get_roster_stats(team, year, mode)\n",
    "            df_i['index'] = player_index(df_i.PLAYER, df_i.SEASON)\n",
    "            df = df.append(df_i, ignore_index=True)\n",
    "\n",
    "    return df\n"
   ]
  },
  {
   "cell_type": "code",
   "execution_count": 23,
   "metadata": {},
   "outputs": [],
   "source": [
    "# df_adv = get_data('ADVANCED')\n",
    "# df_tot = get_data('TOTALS')\n",
    "# df_poss = get_data('PER_POSS')\n",
    "# df_adv.to_csv(\"~/GitHub/3pt-shooting/data/allplayer_adv.csv\", index=False)\n",
    "# df_poss.to_csv(\"~/GitHub/3pt-shooting/data/allplayer_poss.csv\", index=False)\n",
    "# df_tot.to_csv(\"~/GitHub/3pt-shooting/data/allplayer_tot.csv\", index=False)"
   ]
  },
  {
   "cell_type": "code",
   "execution_count": 24,
   "metadata": {},
   "outputs": [
    {
     "data": {
      "text/plain": [
       "Index(['PLAYER', 'POS', 'AGE', 'TEAM', 'G', 'GS', 'MP', 'FG', 'FGA', 'FG%',\n",
       "       '3P', '3PA', '3P%', '2P', '2PA', '2P%', 'FT', 'FTA', 'FT%', 'ORB',\n",
       "       'DRB', 'TRB', 'AST', 'STL', 'BLK', 'TOV', 'PF', 'PTS', 'Unnamed: 29',\n",
       "       'ORtg', 'DRtg', 'SEASON', 'index'],\n",
       "      dtype='object')"
      ]
     },
     "execution_count": 24,
     "metadata": {},
     "output_type": "execute_result"
    }
   ],
   "source": [
    "df_poss = pd.read_csv(\"~/GitHub/3pt-shooting/data/allplayer_poss.csv\")\n",
    "df_poss.columns"
   ]
  },
  {
   "cell_type": "markdown",
   "metadata": {},
   "source": [
    "have to get combine player data from in-season trades\n",
    "then prune data for attempts\n",
    "then prune for consecutive seasons"
   ]
  },
  {
   "cell_type": "code",
   "execution_count": 25,
   "metadata": {},
   "outputs": [
    {
     "data": {
      "text/plain": [
       "Index(['PLAYER', 'POS', 'AGE', 'TEAM', 'G', 'MP', 'PER', 'TS%', '3PAr', 'FTr',\n",
       "       'ORB%', 'DRB%', 'TRB%', 'AST%', 'STL%', 'BLK%', 'TOV%', 'USG%',\n",
       "       'Unnamed: 19', 'OWS', 'DWS', 'WS', 'WS/48', 'Unnamed: 24', 'OBPM',\n",
       "       'DBPM', 'BPM', 'VORP', 'SEASON', 'index'],\n",
       "      dtype='object')"
      ]
     },
     "execution_count": 25,
     "metadata": {},
     "output_type": "execute_result"
    }
   ],
   "source": [
    "df_adv = pd.read_csv(\"~/GitHub/3pt-shooting/data/allplayer_adv.csv\")\n",
    "df_adv.columns"
   ]
  },
  {
   "cell_type": "code",
   "execution_count": 26,
   "metadata": {},
   "outputs": [
    {
     "data": {
      "text/plain": [
       "Index(['PLAYER', 'POS', 'AGE', 'TEAM', 'G', 'GS', 'MP', 'FG', 'FGA', 'FG%',\n",
       "       '3P', '3PA', '3P%', '2P', '2PA', '2P%', 'FT', 'FTA', 'FT%', 'ORB',\n",
       "       'DRB', 'TRB', 'AST', 'STL', 'BLK', 'TOV', 'PF', 'PTS', 'Unnamed: 29',\n",
       "       'ORtg', 'DRtg', 'SEASON', 'eFG%', 'index'],\n",
       "      dtype='object')"
      ]
     },
     "execution_count": 26,
     "metadata": {},
     "output_type": "execute_result"
    }
   ],
   "source": [
    "df_tot = pd.read_csv(\"~/GitHub/3pt-shooting/data/allplayer_tot.csv\")\n",
    "df_tot.columns"
   ]
  },
  {
   "cell_type": "code",
   "execution_count": 27,
   "metadata": {},
   "outputs": [],
   "source": [
    "df_tot = df_tot.drop(['Unnamed: 29'], axis=1)\n",
    "df_poss = df_poss.drop(['Unnamed: 29'], axis=1)\n",
    "df_adv = df_adv.drop(['Unnamed: 19', 'Unnamed: 24'], axis=1)"
   ]
  },
  {
   "cell_type": "markdown",
   "metadata": {},
   "source": [
    "remove duplicate columns, print out duplicates"
   ]
  },
  {
   "cell_type": "code",
   "execution_count": 79,
   "metadata": {},
   "outputs": [
    {
     "name": "stdout",
     "output_type": "stream",
     "text": [
      "key\n",
      "key\n"
     ]
    }
   ],
   "source": [
    "for col in df_tot:\n",
    "    \n",
    "    if col in df_poss and df_tot[col].equals(df_poss[col]):\n",
    "\n",
    "        df_poss = df_poss.drop([col], axis=1)\n",
    "        print(col)\n",
    "        \n",
    "    if col in df_adv and df_tot[col].equals(df_adv[col]):\n",
    "        \n",
    "        df_adv = df_adv.drop([col], axis=1)\n",
    "        print(col)\n"
   ]
  },
  {
   "cell_type": "markdown",
   "metadata": {},
   "source": [
    "rename possession columns"
   ]
  },
  {
   "cell_type": "code",
   "execution_count": 66,
   "metadata": {},
   "outputs": [],
   "source": [
    "df_poss = df_poss.add_suffix('_poss')\n",
    "# df_poss = df_poss.rename({\"index_poss\":\"index\"}, axis=\"columns\")\n",
    "# df_poss = df_poss.rename({\"index\":\"key\"}, axis=\"columns\")\n",
    "# df_adv = df_adv.rename({\"index\":\"key\"}, axis=\"columns\")\n",
    "# df_tot = df_tot.rename({\"index\":\"key\"}, axis=\"columns\")\n"
   ]
  },
  {
   "cell_type": "markdown",
   "metadata": {},
   "source": [
    "combine data frames"
   ]
  },
  {
   "cell_type": "code",
   "execution_count": 83,
   "metadata": {},
   "outputs": [
    {
     "data": {
      "text/plain": [
       "Index(['PLAYER', 'POS', 'AGE', 'TEAM', 'G', 'GS', 'MP', 'FG', 'FGA', 'FG%',\n",
       "       '3P', '3PA', '3P%', '2P', '2PA', '2P%', 'FT', 'FTA', 'FT%', 'ORB',\n",
       "       'DRB', 'TRB', 'AST', 'STL', 'BLK', 'TOV', 'PF', 'PTS', 'ORtg', 'DRtg',\n",
       "       'SEASON', 'eFG%', 'key', 'FG_poss', 'FGA_poss', '3P_poss', '3PA_poss',\n",
       "       '2P_poss', '2PA_poss', 'FT_poss', 'FTA_poss', 'ORB_poss', 'DRB_poss',\n",
       "       'TRB_poss', 'AST_poss', 'STL_poss', 'BLK_poss', 'TOV_poss', 'PF_poss',\n",
       "       'PTS_poss', 'ORtg_poss', 'DRtg_poss', 'PER', 'TS%', '3PAr', 'FTr',\n",
       "       'ORB%', 'DRB%', 'TRB%', 'AST%', 'STL%', 'BLK%', 'TOV%', 'USG%', 'OWS',\n",
       "       'DWS', 'WS', 'WS/48', 'OBPM', 'DBPM', 'BPM', 'VORP'],\n",
       "      dtype='object')"
      ]
     },
     "execution_count": 83,
     "metadata": {},
     "output_type": "execute_result"
    }
   ],
   "source": [
    "df_totposs = df_tot.join(df_poss, how='outer')\n",
    "df_all = df_totposs.join(df_adv, how='outer')\n",
    "df_all.columns\n"
   ]
  },
  {
   "cell_type": "code",
   "execution_count": 103,
   "metadata": {},
   "outputs": [
    {
     "name": "stderr",
     "output_type": "stream",
     "text": [
      "/tmp/ipykernel_10380/4174378321.py:21: SettingWithCopyWarning: \n",
      "A value is trying to be set on a copy of a slice from a DataFrame\n",
      "\n",
      "See the caveats in the documentation: https://pandas.pydata.org/pandas-docs/stable/user_guide/indexing.html#returning-a-view-versus-a-copy\n",
      "  df_trade.trade[i] = 1\n"
     ]
    },
    {
     "data": {
      "text/plain": [
       "1624"
      ]
     },
     "execution_count": 103,
     "metadata": {},
     "output_type": "execute_result"
    }
   ],
   "source": [
    "df_trade = deepcopy(df_all)\n",
    "\n",
    "df_trade['trade'] = 0\n",
    "\n",
    "idents = dict() # dictionary of id to list of indexes\n",
    "\n",
    "for i, row in df_all.iterrows():\n",
    "\n",
    "    ident = row.key\n",
    "\n",
    "    if not str(row.key) in idents:\n",
    "        idents[ident] = [i]\n",
    "\n",
    "    else:\n",
    "        idents[ident].append(i)\n",
    "\n",
    "for ident, inds in idents.items():\n",
    "\n",
    "    if len(inds) > 1:\n",
    "        for i in inds:\n",
    "            df_trade.trade[i] = 1\n",
    "\n",
    "\n"
   ]
  },
  {
   "cell_type": "markdown",
   "metadata": {},
   "source": [
    "need to fix so that each player year is a single row"
   ]
  },
  {
   "cell_type": "code",
   "execution_count": 94,
   "metadata": {},
   "outputs": [
    {
     "ename": "TypeError",
     "evalue": "slice indices must be integers or None or have an __index__ method",
     "output_type": "error",
     "traceback": [
      "\u001b[0;31m---------------------------------------------------------------------------\u001b[0m",
      "\u001b[0;31mTypeError\u001b[0m                                 Traceback (most recent call last)",
      "\u001b[0;32m/tmp/ipykernel_10380/1399713388.py\u001b[0m in \u001b[0;36m<module>\u001b[0;34m\u001b[0m\n\u001b[1;32m      1\u001b[0m \u001b[0ma\u001b[0m \u001b[0;34m=\u001b[0m \u001b[0;34m[\u001b[0m\u001b[0;36m0\u001b[0m\u001b[0;34m,\u001b[0m \u001b[0;36m2\u001b[0m\u001b[0;34m,\u001b[0m\u001b[0;36m3\u001b[0m\u001b[0;34m]\u001b[0m\u001b[0;34m\u001b[0m\u001b[0;34m\u001b[0m\u001b[0m\n\u001b[1;32m      2\u001b[0m \u001b[0mb\u001b[0m \u001b[0;34m=\u001b[0m \u001b[0;34m[\u001b[0m\u001b[0;36m1\u001b[0m\u001b[0;34m,\u001b[0m\u001b[0;36m2\u001b[0m\u001b[0;34m,\u001b[0m\u001b[0;36m3\u001b[0m\u001b[0;34m,\u001b[0m\u001b[0;36m4\u001b[0m\u001b[0;34m,\u001b[0m\u001b[0;36m5\u001b[0m\u001b[0;34m,\u001b[0m\u001b[0;36m6\u001b[0m\u001b[0;34m,\u001b[0m\u001b[0;36m6\u001b[0m\u001b[0;34m]\u001b[0m\u001b[0;34m\u001b[0m\u001b[0;34m\u001b[0m\u001b[0m\n\u001b[0;32m----> 3\u001b[0;31m \u001b[0mb\u001b[0m\u001b[0;34m[\u001b[0m\u001b[0mslice\u001b[0m\u001b[0;34m(\u001b[0m\u001b[0ma\u001b[0m\u001b[0;34m)\u001b[0m\u001b[0;34m]\u001b[0m\u001b[0;34m\u001b[0m\u001b[0;34m\u001b[0m\u001b[0m\n\u001b[0m",
      "\u001b[0;31mTypeError\u001b[0m: slice indices must be integers or None or have an __index__ method"
     ]
    }
   ],
   "source": [
    "a = [0, 2,3]\n",
    "b = [1,2,3,4,5,6,6]\n",
    "b[slice(a)] "
   ]
  }
 ],
 "metadata": {
  "interpreter": {
   "hash": "be6edde37a6fc54c3e82115312c1c05bb7d756105533cab5a4d7b6caba68005d"
  },
  "kernelspec": {
   "display_name": "Python 3.9.7 64-bit ('3pt': conda)",
   "language": "python",
   "name": "python3"
  },
  "language_info": {
   "codemirror_mode": {
    "name": "ipython",
    "version": 3
   },
   "file_extension": ".py",
   "mimetype": "text/x-python",
   "name": "python",
   "nbconvert_exporter": "python",
   "pygments_lexer": "ipython3",
   "version": "3.9.7"
  },
  "orig_nbformat": 4
 },
 "nbformat": 4,
 "nbformat_minor": 2
}
