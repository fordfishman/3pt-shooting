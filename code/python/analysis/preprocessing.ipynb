{
 "cells": [
  {
   "cell_type": "markdown",
   "metadata": {},
   "source": [
    "# 3pt data preprocessing"
   ]
  },
  {
   "cell_type": "code",
   "execution_count": 1,
   "metadata": {},
   "outputs": [],
   "source": [
    "import numpy as np\n",
    "import pandas as pd\n",
    "import sys\n",
    "from copy import deepcopy"
   ]
  },
  {
   "cell_type": "code",
   "execution_count": 2,
   "metadata": {},
   "outputs": [],
   "source": [
    "# sys.path.append(r\"/Users/fordfishman/GitHub/3pt-shooting/code/python/\")\n",
    "sys.path.append(r\"/home/fordfishman/GitHub/3pt-shooting/code/python/\")\n",
    "from basketball_reference_scraper.teams import get_roster_stats\n",
    "\n"
   ]
  },
  {
   "cell_type": "markdown",
   "metadata": {},
   "source": [
    "Set the seasons we desire and the teams as well. The seasons are 2010-2021, with each season going by the year at the time of the playoffs."
   ]
  },
  {
   "cell_type": "code",
   "execution_count": 3,
   "metadata": {},
   "outputs": [],
   "source": [
    "year_range = list( range(2010, 2022) ) \n",
    "team_abr = [\n",
    "    'ATL',\n",
    "    'BRK',\n",
    "    'BOS',\n",
    "    'CHA',\n",
    "    'CHI',\n",
    "    'CLE',\n",
    "    'DAL',\n",
    "    'DEN',\n",
    "    'DET',\n",
    "    'GSW',\n",
    "    'HOU',\n",
    "    'IND',\n",
    "    'LAC',\n",
    "    'LAL',\n",
    "    'MEM',\n",
    "    'MIA',\n",
    "    'MIL',\n",
    "    'MIN',\n",
    "    'NOP',\n",
    "    'NYK',\n",
    "    'OKC',\n",
    "    'ORL',\n",
    "    'PHI',\n",
    "    'PHO',\n",
    "    'POR',\n",
    "    'SAC',\n",
    "    'SAS',\n",
    "    'TOR',\n",
    "    'UTA',\n",
    "    'WAS',\n",
    "    ]\n",
    "\n",
    "\n"
   ]
  },
  {
   "cell_type": "code",
   "execution_count": 4,
   "metadata": {},
   "outputs": [],
   "source": [
    "def player_index(names, seasons):\n",
    "\n",
    "    indices = list()\n",
    "\n",
    "    for i in range(len(names)):\n",
    "\n",
    "        name = names[i].replace(' ', '')\n",
    "        indices.append( '%s%s' % (name, seasons[i]) )\n",
    "\n",
    "    return indices\n",
    "    \n",
    "def get_data(mode):\n",
    "\n",
    "    df = get_roster_stats('GSW', 2021, mode)\n",
    "    df = pd.DataFrame().reindex(columns=df.columns)\n",
    "\n",
    "    for year in year_range:\n",
    "        for team in team_abr:\n",
    "\n",
    "            df_i = get_roster_stats(team, year, mode)\n",
    "            df_i['index'] = player_index(df_i.PLAYER, df_i.SEASON)\n",
    "            df = df.append(df_i, ignore_index=True)\n",
    "\n",
    "    return df\n"
   ]
  },
  {
   "cell_type": "markdown",
   "metadata": {},
   "source": [
    "Run API and save raw data as .csv files."
   ]
  },
  {
   "cell_type": "code",
   "execution_count": 5,
   "metadata": {},
   "outputs": [],
   "source": [
    "df_adv = get_data('ADVANCED')\n",
    "df_tot = get_data('TOTALS')\n",
    "df_poss = get_data('PER_POSS')\n",
    "df_adv.to_csv(\"~/GitHub/3pt-shooting/data/allplayer_adv.csv\", index=False)\n",
    "df_poss.to_csv(\"~/GitHub/3pt-shooting/data/allplayer_poss.csv\", index=False)\n",
    "df_tot.to_csv(\"~/GitHub/3pt-shooting/data/allplayer_tot.csv\", index=False)"
   ]
  },
  {
   "cell_type": "markdown",
   "metadata": {},
   "source": [
    "Read in data (if not already done with API)"
   ]
  },
  {
   "cell_type": "code",
   "execution_count": 71,
   "metadata": {},
   "outputs": [],
   "source": [
    "# df_poss = pd.read_csv(\"~/GitHub/3pt-shooting/data/allplayer_poss.csv\")\n",
    "# df_adv = pd.read_csv(\"~/GitHub/3pt-shooting/data/allplayer_adv.csv\")\n",
    "# df_tot = pd.read_csv(\"~/GitHub/3pt-shooting/data/allplayer_tot.csv\")"
   ]
  },
  {
   "cell_type": "markdown",
   "metadata": {},
   "source": [
    "Remove columns with no data."
   ]
  },
  {
   "cell_type": "code",
   "execution_count": 72,
   "metadata": {},
   "outputs": [],
   "source": [
    "df_tot = df_tot.drop(['Unnamed: 29', 'DRtg', 'ORtg'], axis=1)\n",
    "df_poss = df_poss.drop(['Unnamed: 29'], axis=1)\n",
    "df_adv = df_adv.drop(['Unnamed: 19', 'Unnamed: 24'], axis=1)"
   ]
  },
  {
   "cell_type": "markdown",
   "metadata": {},
   "source": [
    "remove duplicate columns, print out duplicates"
   ]
  },
  {
   "cell_type": "code",
   "execution_count": 73,
   "metadata": {},
   "outputs": [],
   "source": [
    "for col in df_tot:\n",
    "    \n",
    "    if col in df_poss and df_tot[col].equals(df_poss[col]):\n",
    "\n",
    "        df_poss = df_poss.drop([col], axis=1)\n",
    "        \n",
    "    if col in df_adv and df_tot[col].equals(df_adv[col]):\n",
    "        \n",
    "        df_adv = df_adv.drop([col], axis=1)\n"
   ]
  },
  {
   "cell_type": "markdown",
   "metadata": {},
   "source": [
    "rename possession columns"
   ]
  },
  {
   "cell_type": "code",
   "execution_count": 11,
   "metadata": {},
   "outputs": [],
   "source": [
    "df_poss = df_poss.add_suffix('_poss')\n"
   ]
  },
  {
   "cell_type": "markdown",
   "metadata": {},
   "source": [
    "combine data frames"
   ]
  },
  {
   "cell_type": "code",
   "execution_count": 12,
   "metadata": {},
   "outputs": [
    {
     "data": {
      "text/plain": [
       "Index(['PLAYER', 'POS', 'AGE', 'TEAM', 'G', 'GS', 'MP', 'FG', 'FGA', 'FG%',\n",
       "       '3P', '3PA', '3P%', '2P', '2PA', '2P%', 'FT', 'FTA', 'FT%', 'ORB',\n",
       "       'DRB', 'TRB', 'AST', 'STL', 'BLK', 'TOV', 'PF', 'PTS', 'SEASON', 'eFG%',\n",
       "       'index', 'FG_poss', 'FGA_poss', '3P_poss', '3PA_poss', '2P_poss',\n",
       "       '2PA_poss', 'FT_poss', 'FTA_poss', 'ORB_poss', 'DRB_poss', 'TRB_poss',\n",
       "       'AST_poss', 'STL_poss', 'BLK_poss', 'TOV_poss', 'PF_poss', 'PTS_poss',\n",
       "       'ORtg_poss', 'DRtg_poss', 'PER', 'TS%', '3PAr', 'FTr', 'ORB%', 'DRB%',\n",
       "       'TRB%', 'AST%', 'STL%', 'BLK%', 'TOV%', 'USG%', 'OWS', 'DWS', 'WS',\n",
       "       'WS/48', 'OBPM', 'DBPM', 'BPM', 'VORP'],\n",
       "      dtype='object')"
      ]
     },
     "execution_count": 12,
     "metadata": {},
     "output_type": "execute_result"
    }
   ],
   "source": [
    "df_totposs = df_tot.join(df_poss, how='outer')\n",
    "df_all = df_totposs.join(df_adv, how='outer')\n",
    "df_all.columns\n"
   ]
  },
  {
   "cell_type": "code",
   "execution_count": 13,
   "metadata": {},
   "outputs": [],
   "source": [
    "df_trade = deepcopy(df_all)\n",
    "\n",
    "idents = dict() # dictionary of id to list of indexes\n",
    "\n",
    "for i, row in df_all.iterrows():\n",
    "\n",
    "    ident = row['index']\n",
    "\n",
    "    if not ident in idents:\n",
    "        idents[ident] = [i]\n",
    "\n",
    "    else:\n",
    "        idents[ident].append(i)\n",
    "\n",
    "\n"
   ]
  },
  {
   "cell_type": "markdown",
   "metadata": {},
   "source": [
    "need to fix so that each player year is a single row"
   ]
  },
  {
   "cell_type": "code",
   "execution_count": 14,
   "metadata": {},
   "outputs": [
    {
     "name": "stderr",
     "output_type": "stream",
     "text": [
      "/tmp/ipykernel_1236/4138194036.py:32: FutureWarning: Calling a ufunc on non-aligned DataFrames (or DataFrame/Series combination). Currently, the indices are ignored and the result takes the index/columns of the first DataFrame. In the future , the DataFrames/Series will be aligned before applying the ufunc.\n",
      "Convert one of the arguments to a NumPy array (eg 'ufunc(df1, np.asarray(df2)') to keep the current behaviour, or align manually (eg 'df1, df2 = df1.align(df2)') before passing to the ufunc to obtain the future behaviour and silence this warning.\n",
      "  ave_new = np.matmul(games_r, ave_i)\n"
     ]
    }
   ],
   "source": [
    "num = df_trade.select_dtypes(include=['float64','int64']).columns\n",
    "char = df_trade.select_dtypes(include=['object']).columns\n",
    "totals = pd.Index(['G', 'GS', 'MP', 'FG', 'FGA', \n",
    "       '3P', '3PA', '2P', '2PA',  'FT', 'FTA', 'ORB',\n",
    "       'DRB', 'TRB', 'AST', 'STL', 'BLK', 'TOV', 'PF', 'PTS'])\n",
    "aves_list = list()\n",
    "\n",
    "for i in num:\n",
    "    if i not in totals:\n",
    "        aves_list.append(i)\n",
    "aves = pd.Index(aves_list)\n",
    "\n",
    "all_inds = list()\n",
    "\n",
    "i = 0\n",
    "for ident, inds in idents.items():\n",
    "\n",
    "    inds = list(inds)\n",
    "\n",
    "    if len(inds) > 1: # if a player was moved\n",
    "        all_inds += inds\n",
    "        \n",
    "        char_i = df_trade.loc[inds, char].reset_index(drop=True)\n",
    "        tot_i = df_trade.loc[inds, totals].reset_index(drop=True)\n",
    "        ave_i = df_trade.loc[inds, aves].reset_index(drop=True)\n",
    "\n",
    "        char_new = char_i.loc[0,:]\n",
    "        tot_new = tot_i.sum(axis=0)\n",
    "\n",
    "        games = np.sum(tot_new.G)\n",
    "        games_r = tot_i.G/games # ratio of games played\n",
    "        ave_new = np.matmul(games_r, ave_i)\n",
    "\n",
    "        new_row = pd.concat([char_new, tot_new, ave_new], axis=0)\n",
    "        # print(new_row)\n",
    "        \n",
    "        df_trade = df_trade.append(new_row, ignore_index = True)\n",
    "\n",
    "df_trade = df_trade.drop(index=all_inds).reset_index(drop=True)\n",
    "\n",
    "\n",
    "\n",
    "# print(m)"
   ]
  },
  {
   "cell_type": "markdown",
   "metadata": {},
   "source": [
    "remove seasons below 100 3PTA"
   ]
  },
  {
   "cell_type": "code",
   "execution_count": 33,
   "metadata": {},
   "outputs": [],
   "source": [
    "df_limit = df_trade.loc[df_trade['3PA']>=100].reset_index(drop=True)"
   ]
  },
  {
   "cell_type": "markdown",
   "metadata": {},
   "source": [
    "Add information about next year's shooting"
   ]
  },
  {
   "cell_type": "code",
   "execution_count": 35,
   "metadata": {},
   "outputs": [],
   "source": [
    "\n",
    "seasons_sorted = sorted(list(set(df_limit.SEASON)))\n",
    "player_dict = dict()\n",
    "\n",
    "next_3pt = list()\n",
    "next_imp = list()\n",
    "\n",
    "for i in range(len(df_limit)):\n",
    "\n",
    "    player = df_limit.loc[i, \"PLAYER\"]\n",
    "    season = df_limit.loc[i, \"SEASON\"]\n",
    "    pct = df_limit.loc[i, \"3P%\"]\n",
    "\n",
    "    if player not in player_dict:\n",
    "        player_dict[player] = {sea: np.nan for sea in seasons_sorted}\n",
    "        player_dict[player][season] = pct\n",
    "    \n",
    "    else:\n",
    "        player_dict[player][season] = pct\n",
    "\n",
    "seasons_to_keep = dict() # a dictionary of season IDs we will keep\n",
    "\n",
    "for player, seasons in player_dict.items():\n",
    "\n",
    "    for i, season in enumerate(seasons_sorted): # iterate over all seasons in order\n",
    "\n",
    "        if i == len(seasons_sorted) - 1: #if its the last season\n",
    "            break\n",
    "\n",
    "        season_1 = seasons_sorted[i+1]\n",
    "\n",
    "        if not np.isnan(seasons[season]) and not np.isnan(seasons[season_1]):  \n",
    "\n",
    "           name = player.replace(' ', '')\n",
    "           index = '%s%s' % (name, season)\n",
    "           seasons_to_keep[index] = seasons[season_1]\n",
    "\n",
    "            \n"
   ]
  },
  {
   "cell_type": "markdown",
   "metadata": {},
   "source": [
    "Add in next season values. This, along with the differential will be the targets."
   ]
  },
  {
   "cell_type": "code",
   "execution_count": 68,
   "metadata": {},
   "outputs": [],
   "source": [
    "df_limit['next_3P%'] = np.nan\n",
    "\n",
    "for ident, pct in seasons_to_keep.items():\n",
    "    i = df_limit[df_limit['index']==ident].index\n",
    "    df_limit.loc[i, 'next_3P%'] = pct\n",
    "\n",
    "df_final = df_limit.dropna(subset=['next_3P%'])\n",
    "df_final['3pt_dif'] = df_final['next_3P%'] - df_final['3P%'] # differential between this and last seasons shooting percentage"
   ]
  },
  {
   "cell_type": "markdown",
   "metadata": {},
   "source": [
    "change season to be a numerical"
   ]
  },
  {
   "cell_type": "code",
   "execution_count": 69,
   "metadata": {},
   "outputs": [],
   "source": [
    "def season_num(season):\n",
    "    year = season[-2:]\n",
    "    return int( '20%s' % year )\n",
    "\n",
    "season_v = map(season_num, df_final.SEASON)\n",
    "df_final['SEASON'] = list(season_v)"
   ]
  },
  {
   "cell_type": "markdown",
   "metadata": {},
   "source": [
    "Save final data frame"
   ]
  },
  {
   "cell_type": "code",
   "execution_count": 74,
   "metadata": {},
   "outputs": [],
   "source": [
    "df_final.to_csv(\"~/GitHub/3pt-shooting/data/preprocessed.csv\", index=False)"
   ]
  }
 ],
 "metadata": {
  "interpreter": {
   "hash": "be6edde37a6fc54c3e82115312c1c05bb7d756105533cab5a4d7b6caba68005d"
  },
  "kernelspec": {
   "display_name": "Python 3.9.7 64-bit ('3pt': conda)",
   "language": "python",
   "name": "python3"
  },
  "language_info": {
   "codemirror_mode": {
    "name": "ipython",
    "version": 3
   },
   "file_extension": ".py",
   "mimetype": "text/x-python",
   "name": "python",
   "nbconvert_exporter": "python",
   "pygments_lexer": "ipython3",
   "version": "3.9.7"
  },
  "orig_nbformat": 4
 },
 "nbformat": 4,
 "nbformat_minor": 2
}
