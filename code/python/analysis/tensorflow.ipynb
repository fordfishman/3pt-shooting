{
  "cells": [
    {
      "cell_type": "markdown",
      "metadata": {
        "id": "o_hGvWXLAkZq"
      },
      "source": [
        "# Deep Learning Approach with Tensorflow"
      ]
    },
    {
      "cell_type": "code",
      "execution_count": null,
      "metadata": {
        "id": "26Riwz7OAkZr"
      },
      "outputs": [],
      "source": [
        "import tensorflow as tf"
      ]
    },
    {
      "cell_type": "markdown",
      "metadata": {
        "id": "DKre2sjVAkZs"
      },
      "source": [
        "Read in data."
      ]
    },
    {
      "cell_type": "code",
      "execution_count": null,
      "metadata": {
        "id": "qwCR64ulAkZs",
        "outputId": "e0fad6f6-7eec-46ec-9c5a-e8cced8e34d6"
      },
      "outputs": [
        {
          "data": {
            "text/html": [
              "<div>\n",
              "<style scoped>\n",
              "    .dataframe tbody tr th:only-of-type {\n",
              "        vertical-align: middle;\n",
              "    }\n",
              "\n",
              "    .dataframe tbody tr th {\n",
              "        vertical-align: top;\n",
              "    }\n",
              "\n",
              "    .dataframe thead th {\n",
              "        text-align: right;\n",
              "    }\n",
              "</style>\n",
              "<table border=\"1\" class=\"dataframe\">\n",
              "  <thead>\n",
              "    <tr style=\"text-align: right;\">\n",
              "      <th></th>\n",
              "      <th>POS</th>\n",
              "      <th>AGE</th>\n",
              "      <th>TEAM</th>\n",
              "      <th>G</th>\n",
              "      <th>GS</th>\n",
              "      <th>MP</th>\n",
              "      <th>FG</th>\n",
              "      <th>FGA</th>\n",
              "      <th>FG%</th>\n",
              "      <th>3P</th>\n",
              "      <th>...</th>\n",
              "      <th>OWS</th>\n",
              "      <th>DWS</th>\n",
              "      <th>WS</th>\n",
              "      <th>WS/48</th>\n",
              "      <th>OBPM</th>\n",
              "      <th>DBPM</th>\n",
              "      <th>BPM</th>\n",
              "      <th>VORP</th>\n",
              "      <th>next_3P%</th>\n",
              "      <th>3pt_dif</th>\n",
              "    </tr>\n",
              "  </thead>\n",
              "  <tbody>\n",
              "    <tr>\n",
              "      <th>0</th>\n",
              "      <td>PG</td>\n",
              "      <td>31.0</td>\n",
              "      <td>ATL</td>\n",
              "      <td>80</td>\n",
              "      <td>80</td>\n",
              "      <td>2195</td>\n",
              "      <td>268</td>\n",
              "      <td>644</td>\n",
              "      <td>0.416</td>\n",
              "      <td>126</td>\n",
              "      <td>...</td>\n",
              "      <td>3.0</td>\n",
              "      <td>1.7</td>\n",
              "      <td>4.8</td>\n",
              "      <td>0.104</td>\n",
              "      <td>0.1</td>\n",
              "      <td>-0.2</td>\n",
              "      <td>-0.2</td>\n",
              "      <td>1.0</td>\n",
              "      <td>0.433825</td>\n",
              "      <td>0.044825</td>\n",
              "    </tr>\n",
              "    <tr>\n",
              "      <th>1</th>\n",
              "      <td>SG</td>\n",
              "      <td>29.0</td>\n",
              "      <td>ATL</td>\n",
              "      <td>79</td>\n",
              "      <td>0</td>\n",
              "      <td>2460</td>\n",
              "      <td>496</td>\n",
              "      <td>1105</td>\n",
              "      <td>0.449</td>\n",
              "      <td>163</td>\n",
              "      <td>...</td>\n",
              "      <td>5.6</td>\n",
              "      <td>1.7</td>\n",
              "      <td>7.3</td>\n",
              "      <td>0.143</td>\n",
              "      <td>3.5</td>\n",
              "      <td>-1.1</td>\n",
              "      <td>2.4</td>\n",
              "      <td>2.7</td>\n",
              "      <td>0.341000</td>\n",
              "      <td>-0.041000</td>\n",
              "    </tr>\n",
              "    <tr>\n",
              "      <th>2</th>\n",
              "      <td>SF</td>\n",
              "      <td>31.0</td>\n",
              "      <td>ATL</td>\n",
              "      <td>79</td>\n",
              "      <td>5</td>\n",
              "      <td>1317</td>\n",
              "      <td>175</td>\n",
              "      <td>393</td>\n",
              "      <td>0.445</td>\n",
              "      <td>57</td>\n",
              "      <td>...</td>\n",
              "      <td>2.1</td>\n",
              "      <td>1.1</td>\n",
              "      <td>3.1</td>\n",
              "      <td>0.114</td>\n",
              "      <td>-0.4</td>\n",
              "      <td>-0.6</td>\n",
              "      <td>-0.9</td>\n",
              "      <td>0.4</td>\n",
              "      <td>0.326041</td>\n",
              "      <td>-0.010959</td>\n",
              "    </tr>\n",
              "    <tr>\n",
              "      <th>3</th>\n",
              "      <td>SG</td>\n",
              "      <td>28.0</td>\n",
              "      <td>ATL</td>\n",
              "      <td>76</td>\n",
              "      <td>76</td>\n",
              "      <td>2886</td>\n",
              "      <td>635</td>\n",
              "      <td>1386</td>\n",
              "      <td>0.458</td>\n",
              "      <td>129</td>\n",
              "      <td>...</td>\n",
              "      <td>6.0</td>\n",
              "      <td>2.4</td>\n",
              "      <td>8.4</td>\n",
              "      <td>0.140</td>\n",
              "      <td>3.4</td>\n",
              "      <td>-0.7</td>\n",
              "      <td>2.7</td>\n",
              "      <td>3.4</td>\n",
              "      <td>0.297000</td>\n",
              "      <td>-0.072000</td>\n",
              "    </tr>\n",
              "    <tr>\n",
              "      <th>4</th>\n",
              "      <td>SF</td>\n",
              "      <td>23.0</td>\n",
              "      <td>ATL</td>\n",
              "      <td>81</td>\n",
              "      <td>81</td>\n",
              "      <td>2468</td>\n",
              "      <td>302</td>\n",
              "      <td>664</td>\n",
              "      <td>0.455</td>\n",
              "      <td>40</td>\n",
              "      <td>...</td>\n",
              "      <td>3.1</td>\n",
              "      <td>2.6</td>\n",
              "      <td>5.7</td>\n",
              "      <td>0.112</td>\n",
              "      <td>-0.4</td>\n",
              "      <td>0.1</td>\n",
              "      <td>-0.4</td>\n",
              "      <td>1.0</td>\n",
              "      <td>0.336000</td>\n",
              "      <td>0.033000</td>\n",
              "    </tr>\n",
              "  </tbody>\n",
              "</table>\n",
              "<p>5 rows × 70 columns</p>\n",
              "</div>"
            ],
            "text/plain": [
              "  POS   AGE TEAM   G  GS    MP   FG   FGA    FG%   3P  ...  OWS  DWS   WS  \\\n",
              "0  PG  31.0  ATL  80  80  2195  268   644  0.416  126  ...  3.0  1.7  4.8   \n",
              "1  SG  29.0  ATL  79   0  2460  496  1105  0.449  163  ...  5.6  1.7  7.3   \n",
              "2  SF  31.0  ATL  79   5  1317  175   393  0.445   57  ...  2.1  1.1  3.1   \n",
              "3  SG  28.0  ATL  76  76  2886  635  1386  0.458  129  ...  6.0  2.4  8.4   \n",
              "4  SF  23.0  ATL  81  81  2468  302   664  0.455   40  ...  3.1  2.6  5.7   \n",
              "\n",
              "   WS/48  OBPM  DBPM  BPM  VORP  next_3P%   3pt_dif  \n",
              "0  0.104   0.1  -0.2 -0.2   1.0  0.433825  0.044825  \n",
              "1  0.143   3.5  -1.1  2.4   2.7  0.341000 -0.041000  \n",
              "2  0.114  -0.4  -0.6 -0.9   0.4  0.326041 -0.010959  \n",
              "3  0.140   3.4  -0.7  2.7   3.4  0.297000 -0.072000  \n",
              "4  0.112  -0.4   0.1 -0.4   1.0  0.336000  0.033000  \n",
              "\n",
              "[5 rows x 70 columns]"
            ]
          },
          "metadata": {},
          "output_type": "display_data"
        }
      ],
      "source": [
        "from utils import read_data\n",
        "df, X, y1, y2 = read_data(\"~/GitHub/3pt-shooting/data/preprocessed.csv\")\n",
        "display(df.head())"
      ]
    },
    {
      "cell_type": "code",
      "execution_count": null,
      "metadata": {
        "id": "UsRV_lTDAkZt"
      },
      "outputs": [],
      "source": [
        "from sklearn.model_selection import train_test_split\n",
        "from tensorflow.keras.callbacks import EarlyStopping\n",
        "from utils import pipeline\n",
        "\n",
        "X_train, X_test, y1_train, y1_test = train_test_split(X, y1, random_state=0)\n",
        "    \n",
        "ord_names = ['GS', 'SEASON']\n",
        "preprocessor = pipeline(X, ord_names)\n",
        "X_train_scaled = preprocessor.fit_transform(X_train)\n",
        "X_test_scaled = preprocessor.transform(X_test)"
      ]
    },
    {
      "cell_type": "markdown",
      "metadata": {
        "id": "WBd0HUb_AkZt"
      },
      "source": [
        "Design keras model"
      ]
    },
    {
      "cell_type": "code",
      "execution_count": null,
      "metadata": {
        "id": "Uxff8RKpAkZu"
      },
      "outputs": [],
      "source": [
        "from tensorflow.keras.models import Sequential\n",
        "from tensorflow.keras.layers import InputLayer\n",
        "from tensorflow.keras.layers import Dense, Dropout\n",
        "from tensorflow.keras.optimizers import Adam\n",
        "from tensorflow.keras.callbacks import EarlyStopping\n",
        "\n",
        "def design_model(X, learning_rate):\n",
        "\n",
        "    model = Sequential()\n",
        "    model.add(InputLayer(input_shape=(X.shape[1],)))\n",
        "    model.add(Dense(64,activation='relu'))\n",
        "    model.add(Dense(64))\n",
        "    model.add(Dropout(0.2))\n",
        "    model.add(Dense(32,activation='relu'))\n",
        "    model.add(Dense(32))\n",
        "    model.add(Dropout(0.3))\n",
        "    model.add(Dense(16,activation='relu'))\n",
        "    # model.add(Dense(16))\n",
        "    model.add(Dropout(0.3))\n",
        "    model.add(Dense(8,activation='relu'))\n",
        "    # model.add(Dense(8))\n",
        "    model.add(Dense(1))\n",
        "    opt = Adam(learning_rate = learning_rate)\n",
        "    model.compile(loss='mse', metrics=['mae'], optimizer=opt)\n",
        "    return model\n",
        "\n",
        "def fit_tf(model, X, y, epochs, batch_size=16, verbose=0):\n",
        "\n",
        "    es = EarlyStopping(monitor='val_mae', mode='min', verbose=1, patience = 20)\n",
        "\n",
        "    history = model.fit(X, y, epochs=epochs, batch_size=batch_size, verbose=verbose, validation_split=0.3, callbacks=[es])\n",
        "\n",
        "    return model, history"
      ]
    },
    {
      "cell_type": "code",
      "execution_count": null,
      "metadata": {
        "id": "JmZ9VWbbAkZu",
        "outputId": "133acf5c-35e7-49b1-e3cf-0cfac5aed5b7"
      },
      "outputs": [
        {
          "name": "stdout",
          "output_type": "stream",
          "text": [
            "Epoch 00068: early stopping\n"
          ]
        }
      ],
      "source": [
        "model = design_model(X_train_scaled, 0.001)\n",
        "model1, history = fit_tf(model, X_train_scaled, y1_train, epochs=500)\n"
      ]
    },
    {
      "cell_type": "code",
      "execution_count": null,
      "metadata": {
        "id": "BDXIHz9SAkZu",
        "outputId": "c26d58b3-a904-4b2b-c049-1d528944425c"
      },
      "outputs": [
        {
          "data": {
            "text/plain": [
              "dict_keys(['loss', 'mae', 'val_loss', 'val_mae'])"
            ]
          },
          "execution_count": 138,
          "metadata": {},
          "output_type": "execute_result"
        }
      ],
      "source": [
        "history.history.keys()"
      ]
    },
    {
      "cell_type": "code",
      "execution_count": null,
      "metadata": {
        "id": "FKR0w2hcAkZv",
        "outputId": "8b4fcf0c-e023-4803-800c-301fca1743f0"
      },
      "outputs": [
        {
          "name": "stdout",
          "output_type": "stream",
          "text": [
            "0.0017539151012897491\n",
            "0.03249090537428856\n",
            "0.001781841623596847\n",
            "0.03269731253385544\n"
          ]
        }
      ],
      "source": [
        "\n",
        "train_mse, train_mae = model1.evaluate(X_train_scaled, y1_train, verbose=0)\n",
        "print(train_mse)\n",
        "print(train_mae)\n",
        "\n",
        "val_mse, val_mae = model1.evaluate(X_test_scaled, y1_test, verbose=0)\n",
        "print(val_mse)\n",
        "print(val_mae)\n"
      ]
    },
    {
      "cell_type": "code",
      "execution_count": null,
      "metadata": {
        "id": "8TyyeN31AkZv",
        "outputId": "86a82bfa-de34-43cc-ea8c-8f50514a23fe"
      },
      "outputs": [
        {
          "data": {
            "image/png": "[encoded data removed]",
            "text/plain": [
              "<Figure size 640x480 with 2 Axes>"
            ]
          },
          "metadata": {},
          "output_type": "display_data"
        }
      ],
      "source": [
        "import matplotlib.pyplot as plt\n",
        "\n",
        "def plot(history):\n",
        "  #plotting\n",
        "  fig, axs = plt.subplots(1, 2, gridspec_kw={'hspace': 1, 'wspace': 0.5}) \n",
        "  (ax1, ax2) = axs\n",
        "  ax1.plot(history.history['loss'], label='train')\n",
        "  ax1.plot(history.history['val_loss'], label='validation')\n",
        "  ax1.legend(loc=\"upper right\")\n",
        "  ax1.set_xlabel(\"# of epochs\")\n",
        "  ax1.set_ylabel(\"loss (mse)\")\n",
        "\n",
        "  ax2.plot(history.history['mae'], label='train')\n",
        "  ax2.plot(history.history['val_mae'], label='validation')\n",
        "  ax2.legend(loc=\"upper right\")\n",
        "  ax2.set_xlabel(\"# of epochs\")\n",
        "  ax2.set_ylabel(\"MAE\")\n",
        "  plt.show()\n",
        "\n",
        "plot(history)"
      ]
    }
  ],
  "metadata": {
    "interpreter": {
      "hash": "be6edde37a6fc54c3e82115312c1c05bb7d756105533cab5a4d7b6caba68005d"
    },
    "kernelspec": {
      "display_name": "Python 3.9.7 64-bit ('3pt': conda)",
      "language": "python",
      "name": "python3"
    },
    "language_info": {
      "codemirror_mode": {
        "name": "ipython",
        "version": 3
      },
      "file_extension": ".py",
      "mimetype": "text/x-python",
      "name": "python",
      "nbconvert_exporter": "python",
      "pygments_lexer": "ipython3",
      "version": "3.7.11"
    },
    "orig_nbformat": 4,
    "colab": {
      "provenance": []
    }
  },
  "nbformat": 4,
  "nbformat_minor": 0
}