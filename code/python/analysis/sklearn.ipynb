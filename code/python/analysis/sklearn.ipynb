{
 "cells": [
  {
   "cell_type": "markdown",
   "metadata": {},
   "source": [
    "# Scikit-learn analysis"
   ]
  },
  {
   "cell_type": "code",
   "execution_count": 1,
   "metadata": {},
   "outputs": [
    {
     "name": "stderr",
     "output_type": "stream",
     "text": [
      "Intel(R) Extension for Scikit-learn* enabled (https://github.com/intel/scikit-learn-intelex)\n"
     ]
    }
   ],
   "source": [
    "import numpy as np\n",
    "import pandas as pd\n",
    "import matplotlib.pyplot as plt\n",
    "from sklearnex import patch_sklearn\n",
    "patch_sklearn()"
   ]
  },
  {
   "cell_type": "markdown",
   "metadata": {},
   "source": [
    "import untransformed data"
   ]
  },
  {
   "cell_type": "code",
   "execution_count": 2,
   "metadata": {},
   "outputs": [
    {
     "data": {
      "text/html": [
       "<div>\n",
       "<style scoped>\n",
       "    .dataframe tbody tr th:only-of-type {\n",
       "        vertical-align: middle;\n",
       "    }\n",
       "\n",
       "    .dataframe tbody tr th {\n",
       "        vertical-align: top;\n",
       "    }\n",
       "\n",
       "    .dataframe thead th {\n",
       "        text-align: right;\n",
       "    }\n",
       "</style>\n",
       "<table border=\"1\" class=\"dataframe\">\n",
       "  <thead>\n",
       "    <tr style=\"text-align: right;\">\n",
       "      <th></th>\n",
       "      <th>POS</th>\n",
       "      <th>AGE</th>\n",
       "      <th>TEAM</th>\n",
       "      <th>G</th>\n",
       "      <th>GS</th>\n",
       "      <th>MP</th>\n",
       "      <th>FG</th>\n",
       "      <th>FGA</th>\n",
       "      <th>FG%</th>\n",
       "      <th>3P</th>\n",
       "      <th>...</th>\n",
       "      <th>OWS</th>\n",
       "      <th>DWS</th>\n",
       "      <th>WS</th>\n",
       "      <th>WS/48</th>\n",
       "      <th>OBPM</th>\n",
       "      <th>DBPM</th>\n",
       "      <th>BPM</th>\n",
       "      <th>VORP</th>\n",
       "      <th>next_3P%</th>\n",
       "      <th>3pt_dif</th>\n",
       "    </tr>\n",
       "  </thead>\n",
       "  <tbody>\n",
       "    <tr>\n",
       "      <th>0</th>\n",
       "      <td>PG</td>\n",
       "      <td>31.0</td>\n",
       "      <td>ATL</td>\n",
       "      <td>80</td>\n",
       "      <td>80</td>\n",
       "      <td>2195</td>\n",
       "      <td>268</td>\n",
       "      <td>644</td>\n",
       "      <td>0.416</td>\n",
       "      <td>126</td>\n",
       "      <td>...</td>\n",
       "      <td>3.0</td>\n",
       "      <td>1.7</td>\n",
       "      <td>4.8</td>\n",
       "      <td>0.104</td>\n",
       "      <td>0.1</td>\n",
       "      <td>-0.2</td>\n",
       "      <td>-0.2</td>\n",
       "      <td>1.0</td>\n",
       "      <td>0.433825</td>\n",
       "      <td>0.044825</td>\n",
       "    </tr>\n",
       "    <tr>\n",
       "      <th>1</th>\n",
       "      <td>SG</td>\n",
       "      <td>29.0</td>\n",
       "      <td>ATL</td>\n",
       "      <td>79</td>\n",
       "      <td>0</td>\n",
       "      <td>2460</td>\n",
       "      <td>496</td>\n",
       "      <td>1105</td>\n",
       "      <td>0.449</td>\n",
       "      <td>163</td>\n",
       "      <td>...</td>\n",
       "      <td>5.6</td>\n",
       "      <td>1.7</td>\n",
       "      <td>7.3</td>\n",
       "      <td>0.143</td>\n",
       "      <td>3.5</td>\n",
       "      <td>-1.1</td>\n",
       "      <td>2.4</td>\n",
       "      <td>2.7</td>\n",
       "      <td>0.341000</td>\n",
       "      <td>-0.041000</td>\n",
       "    </tr>\n",
       "    <tr>\n",
       "      <th>2</th>\n",
       "      <td>SF</td>\n",
       "      <td>31.0</td>\n",
       "      <td>ATL</td>\n",
       "      <td>79</td>\n",
       "      <td>5</td>\n",
       "      <td>1317</td>\n",
       "      <td>175</td>\n",
       "      <td>393</td>\n",
       "      <td>0.445</td>\n",
       "      <td>57</td>\n",
       "      <td>...</td>\n",
       "      <td>2.1</td>\n",
       "      <td>1.1</td>\n",
       "      <td>3.1</td>\n",
       "      <td>0.114</td>\n",
       "      <td>-0.4</td>\n",
       "      <td>-0.6</td>\n",
       "      <td>-0.9</td>\n",
       "      <td>0.4</td>\n",
       "      <td>0.326041</td>\n",
       "      <td>-0.010959</td>\n",
       "    </tr>\n",
       "    <tr>\n",
       "      <th>3</th>\n",
       "      <td>SG</td>\n",
       "      <td>28.0</td>\n",
       "      <td>ATL</td>\n",
       "      <td>76</td>\n",
       "      <td>76</td>\n",
       "      <td>2886</td>\n",
       "      <td>635</td>\n",
       "      <td>1386</td>\n",
       "      <td>0.458</td>\n",
       "      <td>129</td>\n",
       "      <td>...</td>\n",
       "      <td>6.0</td>\n",
       "      <td>2.4</td>\n",
       "      <td>8.4</td>\n",
       "      <td>0.140</td>\n",
       "      <td>3.4</td>\n",
       "      <td>-0.7</td>\n",
       "      <td>2.7</td>\n",
       "      <td>3.4</td>\n",
       "      <td>0.297000</td>\n",
       "      <td>-0.072000</td>\n",
       "    </tr>\n",
       "    <tr>\n",
       "      <th>4</th>\n",
       "      <td>SF</td>\n",
       "      <td>23.0</td>\n",
       "      <td>ATL</td>\n",
       "      <td>81</td>\n",
       "      <td>81</td>\n",
       "      <td>2468</td>\n",
       "      <td>302</td>\n",
       "      <td>664</td>\n",
       "      <td>0.455</td>\n",
       "      <td>40</td>\n",
       "      <td>...</td>\n",
       "      <td>3.1</td>\n",
       "      <td>2.6</td>\n",
       "      <td>5.7</td>\n",
       "      <td>0.112</td>\n",
       "      <td>-0.4</td>\n",
       "      <td>0.1</td>\n",
       "      <td>-0.4</td>\n",
       "      <td>1.0</td>\n",
       "      <td>0.336000</td>\n",
       "      <td>0.033000</td>\n",
       "    </tr>\n",
       "  </tbody>\n",
       "</table>\n",
       "<p>5 rows × 70 columns</p>\n",
       "</div>"
      ],
      "text/plain": [
       "  POS   AGE TEAM   G  GS    MP   FG   FGA    FG%   3P  ...  OWS  DWS   WS  \\\n",
       "0  PG  31.0  ATL  80  80  2195  268   644  0.416  126  ...  3.0  1.7  4.8   \n",
       "1  SG  29.0  ATL  79   0  2460  496  1105  0.449  163  ...  5.6  1.7  7.3   \n",
       "2  SF  31.0  ATL  79   5  1317  175   393  0.445   57  ...  2.1  1.1  3.1   \n",
       "3  SG  28.0  ATL  76  76  2886  635  1386  0.458  129  ...  6.0  2.4  8.4   \n",
       "4  SF  23.0  ATL  81  81  2468  302   664  0.455   40  ...  3.1  2.6  5.7   \n",
       "\n",
       "   WS/48  OBPM  DBPM  BPM  VORP  next_3P%   3pt_dif  \n",
       "0  0.104   0.1  -0.2 -0.2   1.0  0.433825  0.044825  \n",
       "1  0.143   3.5  -1.1  2.4   2.7  0.341000 -0.041000  \n",
       "2  0.114  -0.4  -0.6 -0.9   0.4  0.326041 -0.010959  \n",
       "3  0.140   3.4  -0.7  2.7   3.4  0.297000 -0.072000  \n",
       "4  0.112  -0.4   0.1 -0.4   1.0  0.336000  0.033000  \n",
       "\n",
       "[5 rows x 70 columns]"
      ]
     },
     "metadata": {},
     "output_type": "display_data"
    }
   ],
   "source": [
    "from utils import read_data\n",
    "df, X, y1, y2 = read_data(\"~/GitHub/3pt-shooting/data/preprocessed.csv\")\n",
    "display(df.head())"
   ]
  },
  {
   "cell_type": "markdown",
   "metadata": {},
   "source": [
    "Program transformations and normalization"
   ]
  },
  {
   "cell_type": "code",
   "execution_count": 3,
   "metadata": {},
   "outputs": [],
   "source": [
    "from sklearn.pipeline import Pipeline\n",
    "from utils import pipeline\n",
    "    \n",
    "ord_names = ['GS', 'SEASON']\n",
    "preprocessor = pipeline(X, ord_names)\n"
   ]
  },
  {
   "cell_type": "markdown",
   "metadata": {},
   "source": [
    "split data into training and test sets, transform data, use y1 first"
   ]
  },
  {
   "cell_type": "code",
   "execution_count": 4,
   "metadata": {},
   "outputs": [],
   "source": [
    "from sklearn.model_selection import train_test_split\n",
    "\n",
    "X_train, X_test, y1_train, y1_test = train_test_split(X, y1, random_state=0)\n",
    "\n"
   ]
  },
  {
   "cell_type": "markdown",
   "metadata": {},
   "source": [
    "try various linear regression algorithms"
   ]
  },
  {
   "cell_type": "code",
   "execution_count": 6,
   "metadata": {},
   "outputs": [
    {
     "name": "stdout",
     "output_type": "stream",
     "text": [
      "rsquared:\t0.258\n",
      "Mean squared error:\t0.001290\n",
      "Mean absolute error:\t0.0283\n"
     ]
    }
   ],
   "source": [
    "from sklearn.linear_model import LinearRegression\n",
    "from utils import scores, model_train\n",
    "\n",
    "lin = LinearRegression()\n",
    "\n",
    "param_grid = {\n",
    "    'model__fit_intercept': [False,True]\n",
    "}\n",
    "\n",
    "ln_reg = model_train(lin, X_train, y1_train, preprocessor=preprocessor, param_grid=param_grid)\n",
    "\n"
   ]
  },
  {
   "cell_type": "code",
   "execution_count": null,
   "metadata": {},
   "outputs": [
    {
     "name": "stdout",
     "output_type": "stream",
     "text": [
      "rsquared:\t0.224\n",
      "Mean squared error:\t0.001350\n",
      "Mean absolute error:\t0.0290\n"
     ]
    }
   ],
   "source": [
    "from sklearn.linear_model import Ridge\n",
    "\n",
    "param_grid = {\n",
    "    'model__alpha': np.logspace(-5,5, num=11, endpoint=5, base=10)\n",
    "}\n",
    "\n",
    "ridge = model_train(Ridge(), X_train, y1_train, preprocessor=preprocessor, param_grid=param_grid)\n"
   ]
  },
  {
   "cell_type": "markdown",
   "metadata": {},
   "source": [
    "These linear regressors perform very poorly"
   ]
  },
  {
   "cell_type": "code",
   "execution_count": 7,
   "metadata": {},
   "outputs": [
    {
     "name": "stdout",
     "output_type": "stream",
     "text": [
      "rsquared:\t0.882\n",
      "Mean squared error:\t0.000206\n",
      "Mean absolute error:\t0.0112\n"
     ]
    }
   ],
   "source": [
    "from sklearn.ensemble import RandomForestRegressor\n",
    "\n",
    "# create parameter grid\n",
    "param_grid = {\n",
    "    'model__max_depth': [*list(np.linspace(1,3)), None]\n",
    "}\n",
    "\n",
    "\n",
    "tree = model_train(RandomForestRegressor(), X_train, y1_train, preprocessor=preprocessor, param_grid=param_grid)"
   ]
  },
  {
   "cell_type": "markdown",
   "metadata": {},
   "source": [
    "Try baseline regressor, "
   ]
  },
  {
   "cell_type": "code",
   "execution_count": 8,
   "metadata": {},
   "outputs": [
    {
     "name": "stdout",
     "output_type": "stream",
     "text": [
      "Training Error:\n",
      "rsquared:\t0.000\n",
      "Mean squared error:\t0.001739\n",
      "Mean absolute error:\t0.0325\n",
      "\n",
      "Test Error:\n",
      "rsquared:\t-0.001\n",
      "Mean squared error:\t0.001774\n",
      "Mean absolute error:\t0.0327\n"
     ]
    },
    {
     "data": {
      "image/png": "[encoded data removed]",
      "text/plain": [
       "<Figure size 800x600 with 1 Axes>"
      ]
     },
     "metadata": {},
     "output_type": "display_data"
    },
    {
     "data": {
      "text/plain": [
       "Pipeline(steps=[('preprocessor',\n",
       "                 ColumnTransformer(transformers=[('cat',\n",
       "                                                  Pipeline(steps=[('onehot',\n",
       "                                                                   OneHotEncoder(handle_unknown='ignore'))]),\n",
       "                                                  Index(['POS', 'TEAM'], dtype='object')),\n",
       "                                                 ('ord',\n",
       "                                                  Pipeline(steps=[('ord',\n",
       "                                                                   OrdinalEncoder())]),\n",
       "                                                  Index(['GS', 'SEASON'], dtype='object')),\n",
       "                                                 ('num',\n",
       "                                                  Pipeline(steps=[('imputer',\n",
       "                                                                   SimpleImputer()),\n",
       "                                                                  ('scaler',\n",
       "                                                                   StandardScaler())]),\n",
       "                                                  Ind...\n",
       "       'BLK', 'TOV', 'PF', 'PTS', 'FG_poss', 'FGA_poss', '3P_poss', '3PA_poss',\n",
       "       '2P_poss', '2PA_poss', 'FT_poss', 'FTA_poss', 'ORB_poss', 'DRB_poss',\n",
       "       'TRB_poss', 'AST_poss', 'STL_poss', 'BLK_poss', 'TOV_poss', 'PF_poss',\n",
       "       'PTS_poss', 'ORtg_poss', 'DRtg_poss', 'PER', 'TS%', '3PAr', 'FTr',\n",
       "       'ORB%', 'DRB%', 'TRB%', 'AST%', 'STL%', 'BLK%', 'TOV%', 'USG%', 'OWS',\n",
       "       'DWS', 'WS', 'WS/48', 'OBPM', 'DBPM', 'BPM', 'VORP'],\n",
       "      dtype='object'))])),\n",
       "                ('model', DummyRegressor())])"
      ]
     },
     "execution_count": 8,
     "metadata": {},
     "output_type": "execute_result"
    }
   ],
   "source": [
    "from sklearn.dummy import DummyRegressor\n",
    "\n",
    "model(DummyRegressor(), X_train, X_test, y1_train, y1_test, preprocessor=preprocessor)\n"
   ]
  }
 ],
 "metadata": {
  "interpreter": {
   "hash": "be6edde37a6fc54c3e82115312c1c05bb7d756105533cab5a4d7b6caba68005d"
  },
  "kernelspec": {
   "display_name": "Python 3.9.7 64-bit ('3pt': conda)",
   "language": "python",
   "name": "python3"
  },
  "language_info": {
   "codemirror_mode": {
    "name": "ipython",
    "version": 3
   },
   "file_extension": ".py",
   "mimetype": "text/x-python",
   "name": "python",
   "nbconvert_exporter": "python",
   "pygments_lexer": "ipython3",
   "version": "3.7.11"
  },
  "orig_nbformat": 4
 },
 "nbformat": 4,
 "nbformat_minor": 2
}
