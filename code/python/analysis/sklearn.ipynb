{
 "cells": [
  {
   "cell_type": "markdown",
   "metadata": {},
   "source": [
    "# Scikit-learn analysis"
   ]
  },
  {
   "cell_type": "code",
   "execution_count": 31,
   "metadata": {},
   "outputs": [
    {
     "name": "stderr",
     "output_type": "stream",
     "text": [
      "Intel(R) Extension for Scikit-learn* enabled (https://github.com/intel/scikit-learn-intelex)\n"
     ]
    }
   ],
   "source": [
    "import numpy as np\n",
    "import pandas as pd\n",
    "import matplotlib.pyplot as plt\n",
    "from sklearnex import patch_sklearn\n",
    "patch_sklearn()"
   ]
  },
  {
   "cell_type": "markdown",
   "metadata": {},
   "source": [
    "### Import transformed data"
   ]
  },
  {
   "cell_type": "code",
   "execution_count": 32,
   "metadata": {},
   "outputs": [
    {
     "data": {
      "text/html": [
       "<div>\n",
       "<style scoped>\n",
       "    .dataframe tbody tr th:only-of-type {\n",
       "        vertical-align: middle;\n",
       "    }\n",
       "\n",
       "    .dataframe tbody tr th {\n",
       "        vertical-align: top;\n",
       "    }\n",
       "\n",
       "    .dataframe thead th {\n",
       "        text-align: right;\n",
       "    }\n",
       "</style>\n",
       "<table border=\"1\" class=\"dataframe\">\n",
       "  <thead>\n",
       "    <tr style=\"text-align: right;\">\n",
       "      <th></th>\n",
       "      <th>AGE</th>\n",
       "      <th>FG</th>\n",
       "      <th>FGA</th>\n",
       "      <th>3P</th>\n",
       "      <th>3PA</th>\n",
       "      <th>2P</th>\n",
       "      <th>2PA</th>\n",
       "      <th>2P%</th>\n",
       "      <th>FT</th>\n",
       "      <th>FTA</th>\n",
       "      <th>...</th>\n",
       "      <th>GS</th>\n",
       "      <th>MP</th>\n",
       "      <th>FG%</th>\n",
       "      <th>3P%</th>\n",
       "      <th>eFG%</th>\n",
       "      <th>ORtg_poss</th>\n",
       "      <th>DRtg_poss</th>\n",
       "      <th>TS%</th>\n",
       "      <th>DBPM</th>\n",
       "      <th>SEASON</th>\n",
       "    </tr>\n",
       "  </thead>\n",
       "  <tbody>\n",
       "    <tr>\n",
       "      <th>0</th>\n",
       "      <td>3.141381</td>\n",
       "      <td>6.447306</td>\n",
       "      <td>8.635655</td>\n",
       "      <td>5.013298</td>\n",
       "      <td>6.868285</td>\n",
       "      <td>5.217103</td>\n",
       "      <td>6.839904</td>\n",
       "      <td>0.762888</td>\n",
       "      <td>4.081655</td>\n",
       "      <td>4.290840</td>\n",
       "      <td>...</td>\n",
       "      <td>80</td>\n",
       "      <td>2195</td>\n",
       "      <td>0.416</td>\n",
       "      <td>0.389</td>\n",
       "      <td>0.514</td>\n",
       "      <td>113.0</td>\n",
       "      <td>110.0</td>\n",
       "      <td>0.538</td>\n",
       "      <td>-0.2</td>\n",
       "      <td>2010</td>\n",
       "    </tr>\n",
       "    <tr>\n",
       "      <th>1</th>\n",
       "      <td>3.072317</td>\n",
       "      <td>7.915783</td>\n",
       "      <td>10.338418</td>\n",
       "      <td>5.462556</td>\n",
       "      <td>7.530248</td>\n",
       "      <td>6.931301</td>\n",
       "      <td>8.785030</td>\n",
       "      <td>0.788909</td>\n",
       "      <td>6.463304</td>\n",
       "      <td>6.804092</td>\n",
       "      <td>...</td>\n",
       "      <td>0</td>\n",
       "      <td>2460</td>\n",
       "      <td>0.449</td>\n",
       "      <td>0.382</td>\n",
       "      <td>0.523</td>\n",
       "      <td>114.0</td>\n",
       "      <td>110.0</td>\n",
       "      <td>0.573</td>\n",
       "      <td>-1.1</td>\n",
       "      <td>2010</td>\n",
       "    </tr>\n",
       "    <tr>\n",
       "      <th>2</th>\n",
       "      <td>3.141381</td>\n",
       "      <td>5.593445</td>\n",
       "      <td>7.324829</td>\n",
       "      <td>3.848501</td>\n",
       "      <td>5.528775</td>\n",
       "      <td>4.904868</td>\n",
       "      <td>6.073178</td>\n",
       "      <td>0.807737</td>\n",
       "      <td>3.583048</td>\n",
       "      <td>3.936497</td>\n",
       "      <td>...</td>\n",
       "      <td>5</td>\n",
       "      <td>1317</td>\n",
       "      <td>0.445</td>\n",
       "      <td>0.337</td>\n",
       "      <td>0.518</td>\n",
       "      <td>117.0</td>\n",
       "      <td>109.0</td>\n",
       "      <td>0.539</td>\n",
       "      <td>-0.6</td>\n",
       "      <td>2010</td>\n",
       "    </tr>\n",
       "    <tr>\n",
       "      <th>3</th>\n",
       "      <td>3.036589</td>\n",
       "      <td>8.595238</td>\n",
       "      <td>11.149475</td>\n",
       "      <td>5.052774</td>\n",
       "      <td>7.047299</td>\n",
       "      <td>7.968627</td>\n",
       "      <td>10.118588</td>\n",
       "      <td>0.787299</td>\n",
       "      <td>6.036811</td>\n",
       "      <td>6.455315</td>\n",
       "      <td>...</td>\n",
       "      <td>76</td>\n",
       "      <td>2886</td>\n",
       "      <td>0.458</td>\n",
       "      <td>0.369</td>\n",
       "      <td>0.505</td>\n",
       "      <td>112.0</td>\n",
       "      <td>109.0</td>\n",
       "      <td>0.538</td>\n",
       "      <td>-0.7</td>\n",
       "      <td>2010</td>\n",
       "    </tr>\n",
       "    <tr>\n",
       "      <th>4</th>\n",
       "      <td>2.843867</td>\n",
       "      <td>6.709173</td>\n",
       "      <td>8.724141</td>\n",
       "      <td>3.419952</td>\n",
       "      <td>5.091643</td>\n",
       "      <td>6.398828</td>\n",
       "      <td>8.102839</td>\n",
       "      <td>0.789445</td>\n",
       "      <td>5.604079</td>\n",
       "      <td>5.990726</td>\n",
       "      <td>...</td>\n",
       "      <td>81</td>\n",
       "      <td>2468</td>\n",
       "      <td>0.455</td>\n",
       "      <td>0.303</td>\n",
       "      <td>0.485</td>\n",
       "      <td>113.0</td>\n",
       "      <td>107.0</td>\n",
       "      <td>0.540</td>\n",
       "      <td>0.1</td>\n",
       "      <td>2010</td>\n",
       "    </tr>\n",
       "  </tbody>\n",
       "</table>\n",
       "<p>5 rows × 70 columns</p>\n",
       "</div>"
      ],
      "text/plain": [
       "        AGE        FG        FGA        3P       3PA        2P        2PA  \\\n",
       "0  3.141381  6.447306   8.635655  5.013298  6.868285  5.217103   6.839904   \n",
       "1  3.072317  7.915783  10.338418  5.462556  7.530248  6.931301   8.785030   \n",
       "2  3.141381  5.593445   7.324829  3.848501  5.528775  4.904868   6.073178   \n",
       "3  3.036589  8.595238  11.149475  5.052774  7.047299  7.968627  10.118588   \n",
       "4  2.843867  6.709173   8.724141  3.419952  5.091643  6.398828   8.102839   \n",
       "\n",
       "        2P%        FT       FTA  ...  GS    MP    FG%    3P%   eFG%  \\\n",
       "0  0.762888  4.081655  4.290840  ...  80  2195  0.416  0.389  0.514   \n",
       "1  0.788909  6.463304  6.804092  ...   0  2460  0.449  0.382  0.523   \n",
       "2  0.807737  3.583048  3.936497  ...   5  1317  0.445  0.337  0.518   \n",
       "3  0.787299  6.036811  6.455315  ...  76  2886  0.458  0.369  0.505   \n",
       "4  0.789445  5.604079  5.990726  ...  81  2468  0.455  0.303  0.485   \n",
       "\n",
       "   ORtg_poss  DRtg_poss    TS%  DBPM  SEASON  \n",
       "0      113.0      110.0  0.538  -0.2    2010  \n",
       "1      114.0      110.0  0.573  -1.1    2010  \n",
       "2      117.0      109.0  0.539  -0.6    2010  \n",
       "3      112.0      109.0  0.538  -0.7    2010  \n",
       "4      113.0      107.0  0.540   0.1    2010  \n",
       "\n",
       "[5 rows x 70 columns]"
      ]
     },
     "metadata": {},
     "output_type": "display_data"
    }
   ],
   "source": [
    "from utils import read_data\n",
    "\n",
    "df, X, y = read_data(\"~/GitHub/3pt-shooting/data/transformed.csv\", 'next_3P%')\n",
    "\n",
    "# keep random state set here\n",
    "random_state = 41678\n",
    "\n",
    "display(df.head())"
   ]
  },
  {
   "cell_type": "markdown",
   "metadata": {},
   "source": [
    "Split data into training and test sets, and use pipeline in `utils.py` to create preprocessing pipeline."
   ]
  },
  {
   "cell_type": "code",
   "execution_count": 33,
   "metadata": {},
   "outputs": [],
   "source": [
    "from sklearn.model_selection import train_test_split\n",
    "from utils import pipeline\n",
    "\n",
    "\n",
    "X_train, X_test, y_train, y_test = train_test_split(X, y, random_state=random_state)\n",
    "preprocessor = pipeline(X_train)"
   ]
  },
  {
   "cell_type": "markdown",
   "metadata": {},
   "source": [
    "## Fit models"
   ]
  },
  {
   "cell_type": "markdown",
   "metadata": {},
   "source": [
    "#### OLS"
   ]
  },
  {
   "cell_type": "code",
   "execution_count": 34,
   "metadata": {},
   "outputs": [
    {
     "name": "stdout",
     "output_type": "stream",
     "text": [
      "Train:\n",
      "rsquared:\t0.287\n",
      "Mean squared error:\t0.001270\n",
      "Mean absolute error:\t0.0277\n",
      "\n",
      "Test:\n",
      "rsquared:\t0.098\n",
      "Mean squared error:\t0.001486\n",
      "Mean absolute error:\t0.0305\n"
     ]
    }
   ],
   "source": [
    "from sklearn.linear_model import LinearRegression\n",
    "from utils import scores, model_train\n",
    "\n",
    "lin = LinearRegression()\n",
    "\n",
    "param_grid = {\n",
    "    'model__fit_intercept': [False,True]\n",
    "}\n",
    "\n",
    "print('Train:')\n",
    "ln_reg = model_train(lin, X_train, y_train, preprocessor=preprocessor, param_grid=param_grid)\n",
    "\n",
    "print()\n",
    "print('Test:')\n",
    "scores(ln_reg, X_test, y_test)\n",
    "\n"
   ]
  },
  {
   "cell_type": "markdown",
   "metadata": {},
   "source": [
    "#### Ridge"
   ]
  },
  {
   "cell_type": "code",
   "execution_count": 35,
   "metadata": {},
   "outputs": [
    {
     "name": "stdout",
     "output_type": "stream",
     "text": [
      "Train:\n",
      "rsquared:\t0.241\n",
      "Mean squared error:\t0.001351\n",
      "Mean absolute error:\t0.0288\n",
      "\n",
      "Test:\n",
      "rsquared:\t0.098\n",
      "Mean squared error:\t0.001486\n",
      "Mean absolute error:\t0.0305\n"
     ]
    }
   ],
   "source": [
    "from sklearn.linear_model import Ridge\n",
    "\n",
    "param_grid = {\n",
    "    'model__alpha': np.logspace(-5,5, num=11, endpoint=5, base=10)\n",
    "}\n",
    "\n",
    "print('Train:')\n",
    "ridge = model_train(Ridge(), X_train, y_train, preprocessor=preprocessor, param_grid=param_grid)\n",
    "\n",
    "print()\n",
    "print('Test:')\n",
    "scores(ln_reg, X_test, y_test)"
   ]
  },
  {
   "cell_type": "markdown",
   "metadata": {},
   "source": [
    "#### Random Forest"
   ]
  },
  {
   "cell_type": "code",
   "execution_count": 36,
   "metadata": {},
   "outputs": [
    {
     "name": "stdout",
     "output_type": "stream",
     "text": [
      "Train:\n",
      "rsquared:\t0.884\n",
      "Mean squared error:\t0.000206\n",
      "Mean absolute error:\t0.0111\n",
      "\n",
      "Test:\n",
      "rsquared:\t0.159\n",
      "Mean squared error:\t0.001385\n",
      "Mean absolute error:\t0.0295\n"
     ]
    }
   ],
   "source": [
    "from sklearn.ensemble import RandomForestRegressor\n",
    "\n",
    "# create parameter grid\n",
    "param_grid = {\n",
    "    'model__max_depth': [*list(np.linspace(1,3)), None]\n",
    "}\n",
    "\n",
    "print('Train:')\n",
    "tree = model_train(RandomForestRegressor(), X_train, y_train, preprocessor=preprocessor, param_grid=param_grid)\n",
    "\n",
    "print()\n",
    "print('Test:')\n",
    "scores(tree, X_test, y_test)"
   ]
  },
  {
   "cell_type": "markdown",
   "metadata": {},
   "source": [
    "#### Dummy Regressor\n",
    "Show the results of using the mean target as a prediction."
   ]
  },
  {
   "cell_type": "code",
   "execution_count": 30,
   "metadata": {},
   "outputs": [
    {
     "name": "stdout",
     "output_type": "stream",
     "text": [
      "rsquared:\t0.000\n",
      "Mean squared error:\t0.001721\n",
      "Mean absolute error:\t0.0323\n",
      "rsquared:\t-0.002\n",
      "Mean squared error:\t0.001827\n",
      "Mean absolute error:\t0.0331\n",
      "None\n"
     ]
    }
   ],
   "source": [
    "from sklearn.dummy import DummyRegressor\n",
    "\n",
    "print('Train:')\n",
    "dummy = model_train(DummyRegressor(), X_train, y_train, preprocessor=preprocessor)\n",
    "\n",
    "print()\n",
    "print('Test:')\n",
    "scores(dummy, X_test, y_test)\n"
   ]
  },
  {
   "cell_type": "markdown",
   "metadata": {},
   "source": [
    "## Fine Tuning Random Forest"
   ]
  },
  {
   "cell_type": "code",
   "execution_count": 37,
   "metadata": {},
   "outputs": [
    {
     "name": "stdout",
     "output_type": "stream",
     "text": [
      "Fitting 4 folds for each of 80 candidates, totalling 320 fits\n"
     ]
    },
    {
     "data": {
      "text/plain": [
       "RandomizedSearchCV(cv=4, estimator=RandomForestRegressor(), n_iter=80,\n",
       "                   n_jobs=-1,\n",
       "                   param_distributions={'criterion': ['squared_error',\n",
       "                                                      'absolute_error',\n",
       "                                                      'poisson'],\n",
       "                                        'max_depth': [10, 142, 274, 406, 538,\n",
       "                                                      671, 803, 935, 1067, 1200,\n",
       "                                                      None],\n",
       "                                        'max_features': ['auto', 'sqrt', 'log2',\n",
       "                                                         None],\n",
       "                                        'min_samples_leaf': [4, 6, 8, 12],\n",
       "                                        'min_samples_split': [5, 7, 10, 14],\n",
       "                                        'n_estimators': [151, 267, 384, 500,\n",
       "                                                         617, 733, 850, 966,\n",
       "                                                         1083, 1200]},\n",
       "                   random_state=41678, verbose=5)"
      ]
     },
     "execution_count": 37,
     "metadata": {},
     "output_type": "execute_result"
    }
   ],
   "source": [
    "from sklearn.model_selection import RandomizedSearchCV\n",
    "\n",
    "X_train_scaled = preprocessor.fit_transform(X_train)\n",
    "\n",
    "random_search = {'criterion': ['squared_error', 'absolute_error', 'poisson'],\n",
    "               'max_depth': list(np.linspace(10, 1200, 10, dtype = int)) + [None],\n",
    "               'max_features': ['auto', 'sqrt','log2', None],\n",
    "               'min_samples_leaf': [4, 6, 8, 12],\n",
    "               'min_samples_split': [5, 7, 10, 14],\n",
    "               'n_estimators': list(np.linspace(151, 1200, 10, dtype = int))}\n",
    "\n",
    "reg = RandomForestRegressor()\n",
    "model = RandomizedSearchCV(estimator = reg, param_distributions = random_search, n_iter = 80, \n",
    "                               cv = 4, verbose= 5, random_state= random_state, n_jobs = -1)\n",
    "model.fit(X_train_scaled,y_train)"
   ]
  },
  {
   "cell_type": "markdown",
   "metadata": {},
   "source": [
    "Summarize random search"
   ]
  },
  {
   "cell_type": "code",
   "execution_count": 38,
   "metadata": {},
   "outputs": [
    {
     "name": "stdout",
     "output_type": "stream",
     "text": [
      "{'n_estimators': 966, 'min_samples_split': 5, 'min_samples_leaf': 4, 'max_features': 'sqrt', 'max_depth': 1067, 'criterion': 'squared_error'}\n",
      "0.18206499467820353\n",
      "0.7740543607478165\n"
     ]
    }
   ],
   "source": [
    "print(model.best_params_)\n",
    "print(model.best_score_)\n",
    "print(model.score(X_train_scaled, y_train))"
   ]
  },
  {
   "cell_type": "code",
   "execution_count": 39,
   "metadata": {},
   "outputs": [
    {
     "data": {
      "image/png": "[encoded data removed]",
      "text/plain": [
       "<Figure size 640x480 with 2 Axes>"
      ]
     },
     "metadata": {},
     "output_type": "display_data"
    }
   ],
   "source": [
    "import seaborn as sns\n",
    "\n",
    "table = pd.pivot_table(pd.DataFrame(model.cv_results_),\n",
    "    values='mean_test_score', index='param_max_features', \n",
    "                       columns='param_max_depth')\n",
    "     \n",
    "sns.heatmap(table)\n",
    "plt.show()\n"
   ]
  },
  {
   "cell_type": "code",
   "execution_count": 41,
   "metadata": {},
   "outputs": [
    {
     "name": "stdout",
     "output_type": "stream",
     "text": [
      "Fitting 4 folds for each of 45 candidates, totalling 180 fits\n"
     ]
    },
    {
     "data": {
      "text/plain": [
       "GridSearchCV(cv=4, estimator=RandomForestRegressor(), n_jobs=-1,\n",
       "             param_grid={'criterion': ['squared_error'], 'max_depth': [1067],\n",
       "                         'max_features': ['sqrt'],\n",
       "                         'min_samples_leaf': [2, 4, 6],\n",
       "                         'min_samples_split': [2, 5, 8],\n",
       "                         'n_estimators': [816, 866, 966, 1066, 1116]},\n",
       "             verbose=5)"
      ]
     },
     "execution_count": 41,
     "metadata": {},
     "output_type": "execute_result"
    }
   ],
   "source": [
    "from sklearn.model_selection import GridSearchCV\n",
    "\n",
    "grid_search = {\n",
    "    'criterion': [model.best_params_['criterion']],\n",
    "    'max_depth': [model.best_params_['max_depth']],\n",
    "    'max_features': [model.best_params_['max_features']],\n",
    "    'min_samples_leaf': [model.best_params_['min_samples_leaf'] - 2, \n",
    "                         model.best_params_['min_samples_leaf'], \n",
    "                         model.best_params_['min_samples_leaf'] + 2],\n",
    "    'min_samples_split': [model.best_params_['min_samples_split'] - 3, \n",
    "                          model.best_params_['min_samples_split'], \n",
    "                          model.best_params_['min_samples_split'] + 3],\n",
    "    'n_estimators': [model.best_params_['n_estimators'] - 150, \n",
    "                     model.best_params_['n_estimators'] - 100, \n",
    "                     model.best_params_['n_estimators'], \n",
    "                     model.best_params_['n_estimators'] + 100, \n",
    "                     model.best_params_['n_estimators'] + 150]\n",
    "}\n",
    "\n",
    "model1 = GridSearchCV(estimator = reg, param_grid = grid_search,  \n",
    "                               cv = 4, verbose= 5, n_jobs = -1)\n",
    "model1.fit(X_train_scaled,y_train)"
   ]
  },
  {
   "cell_type": "code",
   "execution_count": 42,
   "metadata": {},
   "outputs": [
    {
     "name": "stdout",
     "output_type": "stream",
     "text": [
      "{'criterion': 'squared_error', 'max_depth': 1067, 'max_features': 'sqrt', 'min_samples_leaf': 2, 'min_samples_split': 5, 'n_estimators': 866}\n",
      "0.18557328374978177\n",
      "0.8464895706605288\n"
     ]
    }
   ],
   "source": [
    "print(model1.best_params_)\n",
    "print(model1.best_score_)\n",
    "print(model1.score(X_train_scaled, y_train))"
   ]
  },
  {
   "cell_type": "code",
   "execution_count": 34,
   "metadata": {},
   "outputs": [
    {
     "data": {
      "image/png": "[encoded data removed]",
      "text/plain": [
       "<Figure size 640x480 with 2 Axes>"
      ]
     },
     "metadata": {},
     "output_type": "display_data"
    }
   ],
   "source": [
    "table = pd.pivot_table(pd.DataFrame(model1.cv_results_),\n",
    "    values='mean_test_score', index='param_n_estimators', \n",
    "                       columns='param_criterion')\n",
    "     \n",
    "sns.heatmap(table)\n",
    "plt.show()"
   ]
  },
  {
   "cell_type": "code",
   "execution_count": 43,
   "metadata": {},
   "outputs": [
    {
     "name": "stdout",
     "output_type": "stream",
     "text": [
      "Fitting 4 folds for each of 75 candidates, totalling 300 fits\n"
     ]
    },
    {
     "data": {
      "text/plain": [
       "GridSearchCV(cv=4, estimator=RandomForestRegressor(), n_jobs=-1,\n",
       "             param_grid={'criterion': ['squared_error'], 'max_depth': [1067],\n",
       "                         'max_features': ['sqrt'],\n",
       "                         'min_samples_leaf': [1, 1, 2, 3, 4],\n",
       "                         'min_samples_split': [2, 5, 8],\n",
       "                         'n_estimators': [766, 816, 866, 916, 966]},\n",
       "             verbose=5)"
      ]
     },
     "execution_count": 43,
     "metadata": {},
     "output_type": "execute_result"
    }
   ],
   "source": [
    "grid_search2 = {\n",
    "    'criterion': [model1.best_params_['criterion']],\n",
    "    'max_depth': [model1.best_params_['max_depth']],\n",
    "    'max_features': [model1.best_params_['max_features']],\n",
    "    'min_samples_leaf': [max(model1.best_params_['min_samples_leaf'] - 2,1), \n",
    "                         max(model1.best_params_['min_samples_leaf'] - 1,1 ), \n",
    "                         model1.best_params_['min_samples_leaf'], \n",
    "                         model1.best_params_['min_samples_leaf'] + 1,\n",
    "                         model1.best_params_['min_samples_leaf'] + 2],\n",
    "    'min_samples_split': [max(model1.best_params_['min_samples_split'] - 3, 1), \n",
    "                          model1.best_params_['min_samples_split'], \n",
    "                          model1.best_params_['min_samples_split'] + 3],\n",
    "    'n_estimators': [model1.best_params_['n_estimators'] - 100, \n",
    "                     model1.best_params_['n_estimators'] - 50, \n",
    "                     model1.best_params_['n_estimators'], \n",
    "                     model1.best_params_['n_estimators'] + 50, \n",
    "                     model1.best_params_['n_estimators'] + 100]\n",
    "}\n",
    "model2 = GridSearchCV(estimator = reg, param_grid = grid_search2,  \n",
    "                               cv = 4, verbose= 5, n_jobs = -1)\n",
    "model2.fit(X_train_scaled,y_train)\n"
   ]
  },
  {
   "cell_type": "code",
   "execution_count": 45,
   "metadata": {},
   "outputs": [
    {
     "name": "stdout",
     "output_type": "stream",
     "text": [
      "{'criterion': 'squared_error', 'max_depth': 1067, 'max_features': 'sqrt', 'min_samples_leaf': 1, 'min_samples_split': 2, 'n_estimators': 916}\n",
      "0.18582450646659662\n",
      "0.8896575893667829\n"
     ]
    }
   ],
   "source": [
    "print(model2.best_params_)\n",
    "print(model2.best_score_)\n",
    "print(model2.score(X_train_scaled, y_train))"
   ]
  },
  {
   "cell_type": "code",
   "execution_count": 46,
   "metadata": {},
   "outputs": [
    {
     "data": {
      "image/png": "[encoded data removed]",
      "text/plain": [
       "<Figure size 640x480 with 2 Axes>"
      ]
     },
     "metadata": {},
     "output_type": "display_data"
    }
   ],
   "source": [
    "table = pd.pivot_table(pd.DataFrame(model2.cv_results_),\n",
    "    values='mean_test_score', index='param_n_estimators', \n",
    "                       columns='param_min_samples_split')\n",
    "     \n",
    "sns.heatmap(table)\n",
    "plt.show()"
   ]
  },
  {
   "cell_type": "code",
   "execution_count": 47,
   "metadata": {},
   "outputs": [
    {
     "name": "stdout",
     "output_type": "stream",
     "text": [
      "rsquared:\t0.889\n",
      "Mean squared error:\t0.000198\n",
      "Mean absolute error:\t0.0109\n",
      "rsquared:\t0.175\n",
      "Mean squared error:\t0.001359\n",
      "Mean absolute error:\t0.0293\n",
      "None\n"
     ]
    }
   ],
   "source": [
    "reg = RandomForestRegressor(**model2.best_params_)\n",
    "tree1 = model_train(reg, X_train, y_train, preprocessor=preprocessor)\n",
    "\n",
    "print(scores(tree1, X_test, y_test))"
   ]
  },
  {
   "cell_type": "markdown",
   "metadata": {},
   "source": [
    "## Ridge Regression Parameter Tuning"
   ]
  },
  {
   "cell_type": "code",
   "execution_count": 48,
   "metadata": {},
   "outputs": [
    {
     "data": {
      "text/plain": [
       "RandomizedSearchCV(cv=4, estimator=Ridge(), n_iter=80,\n",
       "                   param_distributions={'alpha': array([1.00000000e-05, 1.59985872e-05, 2.55954792e-05, 4.09491506e-05,\n",
       "       6.55128557e-05, 1.04811313e-04, 1.67683294e-04, 2.68269580e-04,\n",
       "       4.29193426e-04, 6.86648845e-04, 1.09854114e-03, 1.75751062e-03,\n",
       "       2.81176870e-03, 4.49843267e-03, 7.19685673e-03, 1.15139540e-02,\n",
       "       1.84206997e-02, 2.94705...\n",
       "       3.39322177e+01, 5.42867544e+01, 8.68511374e+01, 1.38949549e+02,\n",
       "       2.22299648e+02, 3.55648031e+02, 5.68986603e+02, 9.10298178e+02,\n",
       "       1.45634848e+03, 2.32995181e+03, 3.72759372e+03, 5.96362332e+03,\n",
       "       9.54095476e+03, 1.52641797e+04, 2.44205309e+04, 3.90693994e+04,\n",
       "       6.25055193e+04, 1.00000000e+05]),\n",
       "                                        'fit_intercept': [True, False],\n",
       "                                        'solver': ['auto', 'svd', 'cholesky',\n",
       "                                                   'lsqr', 'sparse_cg', 'sag',\n",
       "                                                   'saga']},\n",
       "                   random_state=41678)"
      ]
     },
     "execution_count": 48,
     "metadata": {},
     "output_type": "execute_result"
    }
   ],
   "source": [
    "ridge_search = {\n",
    "    'alpha':np.logspace(-5, 5),\n",
    "    'fit_intercept': [ True, False ],\n",
    "    'solver': ['auto', 'svd', 'cholesky', 'lsqr', 'sparse_cg', 'sag', 'saga']\n",
    "}\n",
    "\n",
    "model = RandomizedSearchCV(estimator = Ridge(), param_distributions = ridge_search, n_iter = 80, \n",
    "                               cv = 4, random_state= random_state)\n",
    "model.fit(X_train_scaled,y_train)"
   ]
  },
  {
   "cell_type": "code",
   "execution_count": 49,
   "metadata": {},
   "outputs": [
    {
     "name": "stdout",
     "output_type": "stream",
     "text": [
      "{'solver': 'svd', 'fit_intercept': True, 'alpha': 355.64803062231283}\n",
      "0.180338495211558\n",
      "0.22441663087061547\n"
     ]
    }
   ],
   "source": [
    "print(model.best_params_)\n",
    "print(model.best_score_)\n",
    "print(model.score(X_train_scaled, y_train))"
   ]
  },
  {
   "cell_type": "code",
   "execution_count": 50,
   "metadata": {},
   "outputs": [
    {
     "data": {
      "image/png": "[encoded data removed]",
      "text/plain": [
       "<Figure size 640x480 with 2 Axes>"
      ]
     },
     "metadata": {},
     "output_type": "display_data"
    }
   ],
   "source": [
    "import seaborn as sns\n",
    "\n",
    "table = pd.pivot_table(pd.DataFrame(model.cv_results_),\n",
    "    values='mean_test_score', index='param_solver', \n",
    "                       columns='param_fit_intercept')\n",
    "     \n",
    "sns.heatmap(table)\n",
    "plt.show()"
   ]
  },
  {
   "cell_type": "code",
   "execution_count": 51,
   "metadata": {},
   "outputs": [
    {
     "data": {
      "text/plain": [
       "GridSearchCV(cv=4, estimator=Ridge(),\n",
       "             param_grid={'alpha': array([1.00000000e-01, 1.62377674e-01, 2.63665090e-01, 4.28133240e-01,\n",
       "       6.95192796e-01, 1.12883789e+00, 1.83298071e+00, 2.97635144e+00,\n",
       "       4.83293024e+00, 7.84759970e+00, 1.27427499e+01, 2.06913808e+01,\n",
       "       3.35981829e+01, 5.45559478e+01, 8.85866790e+01, 1.43844989e+02,\n",
       "       2.33572147e+02, 3.79269019e+02, 6.15848211e+02, 1.00000000e+03]),\n",
       "                         'fit_intercept': [True], 'solver': ['sag', 'saga']})"
      ]
     },
     "execution_count": 51,
     "metadata": {},
     "output_type": "execute_result"
    }
   ],
   "source": [
    "from sklearn.model_selection import GridSearchCV\n",
    "\n",
    "ridge_search2 = {\n",
    "    'alpha':np.logspace(-1, 3, 20),\n",
    "    'fit_intercept': [ True ],\n",
    "    'solver': ['sag', 'saga']\n",
    "}\n",
    "\n",
    "model1 = GridSearchCV(estimator = Ridge(), param_grid = ridge_search2,cv = 4)\n",
    "model1.fit(X_train_scaled,y_train)"
   ]
  },
  {
   "cell_type": "code",
   "execution_count": 52,
   "metadata": {},
   "outputs": [
    {
     "name": "stdout",
     "output_type": "stream",
     "text": [
      "{'alpha': 233.57214690901213, 'fit_intercept': True, 'solver': 'saga'}\n",
      "0.18044520786521212\n",
      "0.22993001820542236\n"
     ]
    }
   ],
   "source": [
    "print(model1.best_params_)\n",
    "print(model1.best_score_)\n",
    "print(model1.score(X_train_scaled, y_train))"
   ]
  },
  {
   "cell_type": "code",
   "execution_count": 53,
   "metadata": {},
   "outputs": [
    {
     "name": "stdout",
     "output_type": "stream",
     "text": [
      "rsquared:\t0.230\n",
      "Mean squared error:\t0.001371\n",
      "Mean absolute error:\t0.0290\n",
      "rsquared:\t0.158\n",
      "Mean squared error:\t0.001386\n",
      "Mean absolute error:\t0.0293\n"
     ]
    }
   ],
   "source": [
    "reg = Ridge(**model1.best_params_)\n",
    "ridge = model_train(reg, X_train, y_train, preprocessor=preprocessor)\n",
    "\n",
    "scores(ridge, X_test, y_test)"
   ]
  },
  {
   "cell_type": "markdown",
   "metadata": {},
   "source": [
    "## Feature importance"
   ]
  },
  {
   "cell_type": "code",
   "execution_count": 54,
   "metadata": {},
   "outputs": [],
   "source": [
    "feature_names = list()\n",
    "feature_names.extend(ridge.named_steps['preprocessor'].transformers_[0][1].named_steps['onehot'].get_feature_names_out())\n",
    "feature_names.extend(ridge.named_steps['preprocessor'].transformers_[1][1].named_steps['scaler'].get_feature_names_out())"
   ]
  },
  {
   "cell_type": "code",
   "execution_count": 55,
   "metadata": {},
   "outputs": [
    {
     "data": {
      "image/png": "[encoded data removed]",
      "text/plain": [
       "<Figure size 900x700 with 1 Axes>"
      ]
     },
     "metadata": {},
     "output_type": "display_data"
    }
   ],
   "source": [
    "coefs = pd.DataFrame(\n",
    "    ridge.named_steps['model'].coef_,\n",
    "    columns=['Coefficients'], index=feature_names\n",
    ")\n",
    "\n",
    "coefs['signs'] = np.sign(coefs.Coefficients)\n",
    "coefs['abs'] = np.abs(coefs.Coefficients)\n",
    "\n",
    "coefs = coefs.sort_values(by=['abs'], ascending=False)\n",
    "\n",
    "coefs_20 = coefs.iloc[0:20,:].sort_values(by=['Coefficients'])\n",
    "\n",
    "coefs_20.plot(y='Coefficients',kind='barh', figsize=(9, 7))\n",
    "plt.title('Effect on next season shooting')\n",
    "plt.axvline(x=0, color='.5')\n",
    "plt.subplots_adjust(left=.3)\n",
    "plt.show()"
   ]
  },
  {
   "cell_type": "markdown",
   "metadata": {},
   "source": [
    "## Random forest feature importance"
   ]
  },
  {
   "cell_type": "code",
   "execution_count": 56,
   "metadata": {},
   "outputs": [
    {
     "data": {
      "image/png": "[encoded data removed]",
      "text/plain": [
       "<Figure size 900x700 with 1 Axes>"
      ]
     },
     "metadata": {},
     "output_type": "display_data"
    }
   ],
   "source": [
    "tree_imp = tree1.named_steps['model'].feature_importances_\n",
    "# tree1.named_steps['model'].estimators_[0]\n",
    "# std = np.std( [tree.feature_importances_ for tree in tree1.named_steps['model'].estimators_], axis=0 )\n",
    "\n",
    "coefs_tree = pd.DataFrame(\n",
    "    tree_imp,\n",
    "    columns=['Coefficients'], index=feature_names\n",
    ")\n",
    "\n",
    "coefs_tree['signs'] = np.sign(coefs_tree.Coefficients)\n",
    "coefs_tree['abs'] = np.abs(coefs_tree.Coefficients)\n",
    "coefs_tree['std'] = np.std( [tree.feature_importances_ for tree in tree1.named_steps['model'].estimators_], axis=0 )\n",
    "\n",
    "\n",
    "coefs_tree = coefs_tree.sort_values(by=['abs'], ascending=False)\n",
    "\n",
    "coefs_20_tree = coefs_tree.iloc[0:20,:].sort_values(by=['Coefficients'])\n",
    "\n",
    "coefs_20_tree.plot(y='Coefficients',kind='barh', figsize=(9, 7))\n",
    "plt.title(\"Effect on next season's shooting:Random Forest\")\n",
    "\n",
    "plt.show()\n"
   ]
  },
  {
   "cell_type": "markdown",
   "metadata": {},
   "source": [
    "## Feature reduction\n",
    "Let's see how only using the most important features affects model performance in Ridge model."
   ]
  },
  {
   "cell_type": "code",
   "execution_count": 59,
   "metadata": {},
   "outputs": [
    {
     "data": {
      "text/plain": [
       "Index(['FTr', 'G', 'FTA_poss', 'FTA', 'TEAM_OKC', 'TEAM_ATL', 'USG%',\n",
       "       'TEAM_MIN', 'DBPM', '3P_poss', '2PA_poss', 'TEAM_CHO', 'TEAM_SAS', 'WS',\n",
       "       'TEAM_GSW', 'BPM', 'OWS', '3P', '3P%', 'FT%'],\n",
       "      dtype='object')"
      ]
     },
     "execution_count": 59,
     "metadata": {},
     "output_type": "execute_result"
    }
   ],
   "source": [
    "coefs_20.index"
   ]
  },
  {
   "cell_type": "code",
   "execution_count": 60,
   "metadata": {},
   "outputs": [
    {
     "name": "stdout",
     "output_type": "stream",
     "text": [
      "rsquared:\t0.246\n",
      "Mean squared error:\t0.001342\n",
      "Mean absolute error:\t0.0287\n",
      "rsquared:\t0.104\n",
      "Mean squared error:\t0.001475\n",
      "Mean absolute error:\t0.0302\n"
     ]
    }
   ],
   "source": [
    "from utils import scores\n",
    "\n",
    "subset = ['FTr', 'G', 'FTA_poss', 'FTA', 'USG%', 'DBPM', '3P_poss', '2PA_poss', 'TEAM', 'BPM', 'OWS', '3P', '3P%', 'FT%']\n",
    "\n",
    "pct = X[subset]\n",
    "\n",
    "\n",
    "lin = Ridge()\n",
    "\n",
    "x_train, x_test, y_train, y_test = train_test_split(pct, y, random_state=random_state)\n",
    "\n",
    "pipe = pipeline(x_train)\n",
    "\n",
    "model = model_train(lin, x_train, y_train, preprocessor=pipe)\n",
    "scores(model, x_test, y_test)\n"
   ]
  }
 ],
 "metadata": {
  "interpreter": {
   "hash": "be6edde37a6fc54c3e82115312c1c05bb7d756105533cab5a4d7b6caba68005d"
  },
  "kernelspec": {
   "display_name": "Python 3.9.7 64-bit ('3pt': conda)",
   "language": "python",
   "name": "python3"
  },
  "language_info": {
   "codemirror_mode": {
    "name": "ipython",
    "version": 3
   },
   "file_extension": ".py",
   "mimetype": "text/x-python",
   "name": "python",
   "nbconvert_exporter": "python",
   "pygments_lexer": "ipython3",
   "version": "3.7.11"
  },
  "orig_nbformat": 4
 },
 "nbformat": 4,
 "nbformat_minor": 2
}
