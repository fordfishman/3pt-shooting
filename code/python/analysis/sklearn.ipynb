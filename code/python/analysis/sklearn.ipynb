{
 "cells": [
  {
   "cell_type": "markdown",
   "metadata": {},
   "source": [
    "# Scikit-learn analysis"
   ]
  },
  {
   "cell_type": "code",
   "execution_count": 1,
   "metadata": {},
   "outputs": [
    {
     "name": "stderr",
     "output_type": "stream",
     "text": [
      "Intel(R) Extension for Scikit-learn* enabled (https://github.com/intel/scikit-learn-intelex)\n"
     ]
    }
   ],
   "source": [
    "import numpy as np\n",
    "import pandas as pd\n",
    "import matplotlib.pyplot as plt\n",
    "from sklearnex import patch_sklearn\n",
    "patch_sklearn()"
   ]
  },
  {
   "cell_type": "markdown",
   "metadata": {},
   "source": [
    "import untransformed data"
   ]
  },
  {
   "cell_type": "code",
   "execution_count": 2,
   "metadata": {},
   "outputs": [
    {
     "data": {
      "text/html": [
       "<div>\n",
       "<style scoped>\n",
       "    .dataframe tbody tr th:only-of-type {\n",
       "        vertical-align: middle;\n",
       "    }\n",
       "\n",
       "    .dataframe tbody tr th {\n",
       "        vertical-align: top;\n",
       "    }\n",
       "\n",
       "    .dataframe thead th {\n",
       "        text-align: right;\n",
       "    }\n",
       "</style>\n",
       "<table border=\"1\" class=\"dataframe\">\n",
       "  <thead>\n",
       "    <tr style=\"text-align: right;\">\n",
       "      <th></th>\n",
       "      <th>POS</th>\n",
       "      <th>AGE</th>\n",
       "      <th>TEAM</th>\n",
       "      <th>G</th>\n",
       "      <th>GS</th>\n",
       "      <th>MP</th>\n",
       "      <th>FG</th>\n",
       "      <th>FGA</th>\n",
       "      <th>FG%</th>\n",
       "      <th>3P</th>\n",
       "      <th>...</th>\n",
       "      <th>OWS</th>\n",
       "      <th>DWS</th>\n",
       "      <th>WS</th>\n",
       "      <th>WS/48</th>\n",
       "      <th>OBPM</th>\n",
       "      <th>DBPM</th>\n",
       "      <th>BPM</th>\n",
       "      <th>VORP</th>\n",
       "      <th>next_3P%</th>\n",
       "      <th>3pt_dif</th>\n",
       "    </tr>\n",
       "  </thead>\n",
       "  <tbody>\n",
       "    <tr>\n",
       "      <th>0</th>\n",
       "      <td>PG</td>\n",
       "      <td>31.0</td>\n",
       "      <td>ATL</td>\n",
       "      <td>80</td>\n",
       "      <td>80</td>\n",
       "      <td>2195</td>\n",
       "      <td>268</td>\n",
       "      <td>644</td>\n",
       "      <td>0.416</td>\n",
       "      <td>126</td>\n",
       "      <td>...</td>\n",
       "      <td>3.0</td>\n",
       "      <td>1.7</td>\n",
       "      <td>4.8</td>\n",
       "      <td>0.104</td>\n",
       "      <td>0.1</td>\n",
       "      <td>-0.2</td>\n",
       "      <td>-0.2</td>\n",
       "      <td>1.0</td>\n",
       "      <td>0.433825</td>\n",
       "      <td>0.044825</td>\n",
       "    </tr>\n",
       "    <tr>\n",
       "      <th>1</th>\n",
       "      <td>SG</td>\n",
       "      <td>29.0</td>\n",
       "      <td>ATL</td>\n",
       "      <td>79</td>\n",
       "      <td>0</td>\n",
       "      <td>2460</td>\n",
       "      <td>496</td>\n",
       "      <td>1105</td>\n",
       "      <td>0.449</td>\n",
       "      <td>163</td>\n",
       "      <td>...</td>\n",
       "      <td>5.6</td>\n",
       "      <td>1.7</td>\n",
       "      <td>7.3</td>\n",
       "      <td>0.143</td>\n",
       "      <td>3.5</td>\n",
       "      <td>-1.1</td>\n",
       "      <td>2.4</td>\n",
       "      <td>2.7</td>\n",
       "      <td>0.341000</td>\n",
       "      <td>-0.041000</td>\n",
       "    </tr>\n",
       "    <tr>\n",
       "      <th>2</th>\n",
       "      <td>SF</td>\n",
       "      <td>31.0</td>\n",
       "      <td>ATL</td>\n",
       "      <td>79</td>\n",
       "      <td>5</td>\n",
       "      <td>1317</td>\n",
       "      <td>175</td>\n",
       "      <td>393</td>\n",
       "      <td>0.445</td>\n",
       "      <td>57</td>\n",
       "      <td>...</td>\n",
       "      <td>2.1</td>\n",
       "      <td>1.1</td>\n",
       "      <td>3.1</td>\n",
       "      <td>0.114</td>\n",
       "      <td>-0.4</td>\n",
       "      <td>-0.6</td>\n",
       "      <td>-0.9</td>\n",
       "      <td>0.4</td>\n",
       "      <td>0.326041</td>\n",
       "      <td>-0.010959</td>\n",
       "    </tr>\n",
       "    <tr>\n",
       "      <th>3</th>\n",
       "      <td>SG</td>\n",
       "      <td>28.0</td>\n",
       "      <td>ATL</td>\n",
       "      <td>76</td>\n",
       "      <td>76</td>\n",
       "      <td>2886</td>\n",
       "      <td>635</td>\n",
       "      <td>1386</td>\n",
       "      <td>0.458</td>\n",
       "      <td>129</td>\n",
       "      <td>...</td>\n",
       "      <td>6.0</td>\n",
       "      <td>2.4</td>\n",
       "      <td>8.4</td>\n",
       "      <td>0.140</td>\n",
       "      <td>3.4</td>\n",
       "      <td>-0.7</td>\n",
       "      <td>2.7</td>\n",
       "      <td>3.4</td>\n",
       "      <td>0.297000</td>\n",
       "      <td>-0.072000</td>\n",
       "    </tr>\n",
       "    <tr>\n",
       "      <th>4</th>\n",
       "      <td>SF</td>\n",
       "      <td>23.0</td>\n",
       "      <td>ATL</td>\n",
       "      <td>81</td>\n",
       "      <td>81</td>\n",
       "      <td>2468</td>\n",
       "      <td>302</td>\n",
       "      <td>664</td>\n",
       "      <td>0.455</td>\n",
       "      <td>40</td>\n",
       "      <td>...</td>\n",
       "      <td>3.1</td>\n",
       "      <td>2.6</td>\n",
       "      <td>5.7</td>\n",
       "      <td>0.112</td>\n",
       "      <td>-0.4</td>\n",
       "      <td>0.1</td>\n",
       "      <td>-0.4</td>\n",
       "      <td>1.0</td>\n",
       "      <td>0.336000</td>\n",
       "      <td>0.033000</td>\n",
       "    </tr>\n",
       "  </tbody>\n",
       "</table>\n",
       "<p>5 rows × 70 columns</p>\n",
       "</div>"
      ],
      "text/plain": [
       "  POS   AGE TEAM   G  GS    MP   FG   FGA    FG%   3P  ...  OWS  DWS   WS  \\\n",
       "0  PG  31.0  ATL  80  80  2195  268   644  0.416  126  ...  3.0  1.7  4.8   \n",
       "1  SG  29.0  ATL  79   0  2460  496  1105  0.449  163  ...  5.6  1.7  7.3   \n",
       "2  SF  31.0  ATL  79   5  1317  175   393  0.445   57  ...  2.1  1.1  3.1   \n",
       "3  SG  28.0  ATL  76  76  2886  635  1386  0.458  129  ...  6.0  2.4  8.4   \n",
       "4  SF  23.0  ATL  81  81  2468  302   664  0.455   40  ...  3.1  2.6  5.7   \n",
       "\n",
       "   WS/48  OBPM  DBPM  BPM  VORP  next_3P%   3pt_dif  \n",
       "0  0.104   0.1  -0.2 -0.2   1.0  0.433825  0.044825  \n",
       "1  0.143   3.5  -1.1  2.4   2.7  0.341000 -0.041000  \n",
       "2  0.114  -0.4  -0.6 -0.9   0.4  0.326041 -0.010959  \n",
       "3  0.140   3.4  -0.7  2.7   3.4  0.297000 -0.072000  \n",
       "4  0.112  -0.4   0.1 -0.4   1.0  0.336000  0.033000  \n",
       "\n",
       "[5 rows x 70 columns]"
      ]
     },
     "metadata": {},
     "output_type": "display_data"
    }
   ],
   "source": [
    "from utils import read_data\n",
    "df, X, y1, y2 = read_data(\"~/GitHub/3pt-shooting/data/preprocessed.csv\")\n",
    "display(df.head())"
   ]
  },
  {
   "cell_type": "markdown",
   "metadata": {},
   "source": [
    "Program transformations and normalization"
   ]
  },
  {
   "cell_type": "code",
   "execution_count": 3,
   "metadata": {},
   "outputs": [],
   "source": [
    "from sklearn.pipeline import Pipeline\n",
    "from utils import pipeline\n",
    "    \n",
    "# ord_names = ['GS', 'SEASON']\n",
    "preprocessor = pipeline(X)\n"
   ]
  },
  {
   "cell_type": "markdown",
   "metadata": {},
   "source": [
    "split data into training and test sets, transform data, use y1 first"
   ]
  },
  {
   "cell_type": "code",
   "execution_count": 40,
   "metadata": {},
   "outputs": [],
   "source": [
    "from sklearn.model_selection import train_test_split\n",
    "\n",
    "X_train, X_test, y1_train, y1_test = train_test_split(X, y1, random_state=5)\n",
    "\n"
   ]
  },
  {
   "cell_type": "markdown",
   "metadata": {},
   "source": [
    "try various linear regression algorithms"
   ]
  },
  {
   "cell_type": "code",
   "execution_count": 41,
   "metadata": {},
   "outputs": [
    {
     "name": "stdout",
     "output_type": "stream",
     "text": [
      "rsquared:\t0.272\n",
      "Mean squared error:\t0.001228\n",
      "Mean absolute error:\t0.0274\n"
     ]
    }
   ],
   "source": [
    "from sklearn.linear_model import LinearRegression\n",
    "from utils import scores, model_train\n",
    "\n",
    "lin = LinearRegression()\n",
    "\n",
    "param_grid = {\n",
    "    'model__fit_intercept': [False,True]\n",
    "}\n",
    "\n",
    "ln_reg = model_train(lin, X_train, y1_train, preprocessor=preprocessor, param_grid=param_grid)\n",
    "\n"
   ]
  },
  {
   "cell_type": "code",
   "execution_count": 42,
   "metadata": {},
   "outputs": [
    {
     "name": "stdout",
     "output_type": "stream",
     "text": [
      "rsquared:\t0.237\n",
      "Mean squared error:\t0.001286\n",
      "Mean absolute error:\t0.0280\n"
     ]
    }
   ],
   "source": [
    "from sklearn.linear_model import Ridge\n",
    "\n",
    "param_grid = {\n",
    "    'model__alpha': np.logspace(-5,5, num=11, endpoint=5, base=10)\n",
    "}\n",
    "\n",
    "ridge = model_train(Ridge(), X_train, y1_train, preprocessor=preprocessor, param_grid=param_grid)\n"
   ]
  },
  {
   "cell_type": "markdown",
   "metadata": {},
   "source": [
    "These linear regressors perform very poorly"
   ]
  },
  {
   "cell_type": "code",
   "execution_count": 9,
   "metadata": {},
   "outputs": [
    {
     "name": "stdout",
     "output_type": "stream",
     "text": [
      "rsquared:\t0.883\n",
      "Mean squared error:\t0.000203\n",
      "Mean absolute error:\t0.0111\n",
      "rsquared:\t0.186\n",
      "Mean squared error:\t0.001443\n",
      "Mean absolute error:\t0.0293\n"
     ]
    }
   ],
   "source": [
    "from sklearn.ensemble import RandomForestRegressor\n",
    "\n",
    "# create parameter grid\n",
    "param_grid = {\n",
    "    'model__max_depth': [*list(np.linspace(1,3)), None]\n",
    "}\n",
    "\n",
    "\n",
    "tree = model_train(RandomForestRegressor(), X_train, y1_train, preprocessor=preprocessor, param_grid=param_grid)\n",
    "print(scores(tree, X_test, y1_test))"
   ]
  },
  {
   "cell_type": "markdown",
   "metadata": {},
   "source": [
    "Try baseline regressor, "
   ]
  },
  {
   "cell_type": "code",
   "execution_count": 130,
   "metadata": {},
   "outputs": [
    {
     "name": "stdout",
     "output_type": "stream",
     "text": [
      "rsquared:\t0.000\n",
      "Mean squared error:\t0.001686\n",
      "Mean absolute error:\t0.0319\n",
      "rsquared:\t-0.003\n",
      "Mean squared error:\t0.001934\n",
      "Mean absolute error:\t0.0345\n"
     ]
    }
   ],
   "source": [
    "from sklearn.dummy import DummyRegressor\n",
    "\n",
    "dummy = model_train(DummyRegressor(), X_train, y1_train, preprocessor=preprocessor)\n",
    "print(scores(dummy, X_test, y1_test))\n"
   ]
  },
  {
   "cell_type": "markdown",
   "metadata": {},
   "source": [
    "## Fine Tuning Random Forest"
   ]
  },
  {
   "cell_type": "code",
   "execution_count": 118,
   "metadata": {},
   "outputs": [],
   "source": [
    "from sklearn.model_selection import RandomizedSearchCV\n",
    "\n",
    "X_train_scaled = preprocessor.fit_transform(X_train)\n",
    "\n",
    "random_search = {'criterion': ['squared_error', 'absolute_error', 'poisson'],\n",
    "               'max_depth': list(np.linspace(10, 1200, 10, dtype = int)) + [None],\n",
    "               'max_features': ['auto', 'sqrt','log2', None],\n",
    "               'min_samples_leaf': [4, 6, 8, 12],\n",
    "               'min_samples_split': [5, 7, 10, 14],\n",
    "               'n_estimators': list(np.linspace(151, 1200, 10, dtype = int))}\n",
    "\n",
    "reg = RandomForestRegressor()\n",
    "model = RandomizedSearchCV(estimator = reg, param_distributions = random_search, n_iter = 80, \n",
    "                               cv = 4, verbose= 5, random_state= 101, n_jobs = -1)\n",
    "# model.fit(X_train_scaled,y1_train)"
   ]
  },
  {
   "cell_type": "markdown",
   "metadata": {},
   "source": [
    "Results: {'n_estimators': 151, 'min_samples_split': 10, 'min_samples_leaf': 6, 'max_features': 'auto', 'max_depth': None, 'criterion': 'squared_error'}"
   ]
  },
  {
   "cell_type": "markdown",
   "metadata": {},
   "source": [
    "Summarize random search"
   ]
  },
  {
   "cell_type": "code",
   "execution_count": 12,
   "metadata": {},
   "outputs": [
    {
     "ename": "AttributeError",
     "evalue": "'RandomizedSearchCV' object has no attribute 'best_params_'",
     "output_type": "error",
     "traceback": [
      "\u001b[0;31m---------------------------------------------------------------------------\u001b[0m",
      "\u001b[0;31mAttributeError\u001b[0m                            Traceback (most recent call last)",
      "\u001b[0;32m<ipython-input-12-9fc99a4d7c75>\u001b[0m in \u001b[0;36m<module>\u001b[0;34m\u001b[0m\n\u001b[0;32m----> 1\u001b[0;31m \u001b[0mprint\u001b[0m\u001b[0;34m(\u001b[0m\u001b[0mmodel\u001b[0m\u001b[0;34m.\u001b[0m\u001b[0mbest_params_\u001b[0m\u001b[0;34m)\u001b[0m\u001b[0;34m\u001b[0m\u001b[0;34m\u001b[0m\u001b[0m\n\u001b[0m\u001b[1;32m      2\u001b[0m \u001b[0mprint\u001b[0m\u001b[0;34m(\u001b[0m\u001b[0mmodel\u001b[0m\u001b[0;34m.\u001b[0m\u001b[0mbest_score_\u001b[0m\u001b[0;34m)\u001b[0m\u001b[0;34m\u001b[0m\u001b[0;34m\u001b[0m\u001b[0m\n\u001b[1;32m      3\u001b[0m \u001b[0mprint\u001b[0m\u001b[0;34m(\u001b[0m\u001b[0mmodel\u001b[0m\u001b[0;34m.\u001b[0m\u001b[0mscore\u001b[0m\u001b[0;34m(\u001b[0m\u001b[0mX_train_scaled\u001b[0m\u001b[0;34m,\u001b[0m \u001b[0my1_train\u001b[0m\u001b[0;34m)\u001b[0m\u001b[0;34m)\u001b[0m\u001b[0;34m\u001b[0m\u001b[0;34m\u001b[0m\u001b[0m\n",
      "\u001b[0;31mAttributeError\u001b[0m: 'RandomizedSearchCV' object has no attribute 'best_params_'"
     ]
    }
   ],
   "source": [
    "print(model.best_params_)\n",
    "print(model.best_score_)\n",
    "print(model.score(X_train_scaled, y1_train))"
   ]
  },
  {
   "cell_type": "code",
   "execution_count": null,
   "metadata": {},
   "outputs": [
    {
     "data": {
      "image/png": "[encoded data removed]",
      "text/plain": [
       "<Figure size 640x480 with 2 Axes>"
      ]
     },
     "metadata": {},
     "output_type": "display_data"
    }
   ],
   "source": [
    "import seaborn as sns\n",
    "\n",
    "table = pd.pivot_table(pd.DataFrame(model.cv_results_),\n",
    "    values='mean_test_score', index='param_max_features', \n",
    "                       columns='param_max_depth')\n",
    "     \n",
    "sns.heatmap(table)\n",
    "plt.show()\n"
   ]
  },
  {
   "cell_type": "code",
   "execution_count": null,
   "metadata": {},
   "outputs": [
    {
     "name": "stdout",
     "output_type": "stream",
     "text": [
      "Fitting 4 folds for each of 45 candidates, totalling 180 fits\n"
     ]
    },
    {
     "data": {
      "text/plain": [
       "GridSearchCV(cv=4, estimator=RandomForestRegressor(), n_jobs=-1,\n",
       "             param_grid={'criterion': ['squared_error'], 'max_depth': [None],\n",
       "                         'max_features': ['auto'],\n",
       "                         'min_samples_leaf': [4, 6, 8],\n",
       "                         'min_samples_split': [7, 10, 13],\n",
       "                         'n_estimators': [1, 51, 151, 251, 301]},\n",
       "             verbose=5)"
      ]
     },
     "execution_count": 50,
     "metadata": {},
     "output_type": "execute_result"
    }
   ],
   "source": [
    "from sklearn.model_selection import GridSearchCV\n",
    "\n",
    "grid_search = {\n",
    "    'criterion': [model.best_params_['criterion']],\n",
    "    'max_depth': [model.best_params_['max_depth']],\n",
    "    'max_features': [model.best_params_['max_features']],\n",
    "    'min_samples_leaf': [model.best_params_['min_samples_leaf'] - 2, \n",
    "                         model.best_params_['min_samples_leaf'], \n",
    "                         model.best_params_['min_samples_leaf'] + 2],\n",
    "    'min_samples_split': [model.best_params_['min_samples_split'] - 3, \n",
    "                          model.best_params_['min_samples_split'], \n",
    "                          model.best_params_['min_samples_split'] + 3],\n",
    "    'n_estimators': [model.best_params_['n_estimators'] - 150, \n",
    "                     model.best_params_['n_estimators'] - 100, \n",
    "                     model.best_params_['n_estimators'], \n",
    "                     model.best_params_['n_estimators'] + 100, \n",
    "                     model.best_params_['n_estimators'] + 150]\n",
    "}\n",
    "\n",
    "model1 = GridSearchCV(estimator = reg, param_grid = grid_search,  \n",
    "                               cv = 4, verbose= 5, n_jobs = -1)\n",
    "model1.fit(X_train_scaled,y1_train)"
   ]
  },
  {
   "cell_type": "code",
   "execution_count": null,
   "metadata": {},
   "outputs": [
    {
     "name": "stdout",
     "output_type": "stream",
     "text": [
      "{'criterion': 'squared_error', 'max_depth': None, 'max_features': 'auto', 'min_samples_leaf': 8, 'min_samples_split': 7, 'n_estimators': 251}\n",
      "0.17635111015500704\n",
      "0.7120927456242697\n"
     ]
    }
   ],
   "source": [
    "print(model1.best_params_)\n",
    "print(model1.best_score_)\n",
    "print(model1.score(X_train_scaled, y1_train))"
   ]
  },
  {
   "cell_type": "code",
   "execution_count": null,
   "metadata": {},
   "outputs": [
    {
     "data": {
      "image/png": "[encoded data removed]",
      "text/plain": [
       "<Figure size 640x480 with 2 Axes>"
      ]
     },
     "metadata": {},
     "output_type": "display_data"
    }
   ],
   "source": [
    "table = pd.pivot_table(pd.DataFrame(model1.cv_results_),\n",
    "    values='mean_test_score', index='param_n_estimators', \n",
    "                       columns='param_criterion')\n",
    "     \n",
    "sns.heatmap(table)\n",
    "plt.show()"
   ]
  },
  {
   "cell_type": "code",
   "execution_count": null,
   "metadata": {},
   "outputs": [
    {
     "name": "stdout",
     "output_type": "stream",
     "text": [
      "Fitting 4 folds for each of 75 candidates, totalling 300 fits\n"
     ]
    },
    {
     "data": {
      "text/plain": [
       "GridSearchCV(cv=4, estimator=RandomForestRegressor(), n_jobs=-1,\n",
       "             param_grid={'criterion': ['squared_error'], 'max_depth': [None],\n",
       "                         'max_features': ['auto'],\n",
       "                         'min_samples_leaf': [6, 7, 8, 9, 10],\n",
       "                         'min_samples_split': [4, 7, 10],\n",
       "                         'n_estimators': [151, 201, 251, 301, 351]},\n",
       "             verbose=5)"
      ]
     },
     "execution_count": 54,
     "metadata": {},
     "output_type": "execute_result"
    }
   ],
   "source": [
    "grid_search2 = {\n",
    "    'criterion': [model1.best_params_['criterion']],\n",
    "    'max_depth': [model1.best_params_['max_depth']],\n",
    "    'max_features': [model1.best_params_['max_features']],\n",
    "    'min_samples_leaf': [model1.best_params_['min_samples_leaf'] - 2, \n",
    "                         model1.best_params_['min_samples_leaf'] - 1, \n",
    "                         model1.best_params_['min_samples_leaf'], \n",
    "                         model1.best_params_['min_samples_leaf'] + 1,\n",
    "                         model1.best_params_['min_samples_leaf'] + 2],\n",
    "    'min_samples_split': [model1.best_params_['min_samples_split'] - 3, \n",
    "                          model1.best_params_['min_samples_split'], \n",
    "                          model1.best_params_['min_samples_split'] + 3],\n",
    "    'n_estimators': [model1.best_params_['n_estimators'] - 100, \n",
    "                     model1.best_params_['n_estimators'] - 50, \n",
    "                     model1.best_params_['n_estimators'], \n",
    "                     model1.best_params_['n_estimators'] + 50, \n",
    "                     model1.best_params_['n_estimators'] + 100]\n",
    "}\n",
    "model2 = GridSearchCV(estimator = reg, param_grid = grid_search2,  \n",
    "                               cv = 4, verbose= 5, n_jobs = -1)\n",
    "model2.fit(X_train_scaled,y1_train)\n"
   ]
  },
  {
   "cell_type": "code",
   "execution_count": null,
   "metadata": {},
   "outputs": [
    {
     "name": "stdout",
     "output_type": "stream",
     "text": [
      "{'criterion': 'squared_error', 'max_depth': None, 'max_features': 'auto', 'min_samples_leaf': 8, 'min_samples_split': 7, 'n_estimators': 201}\n",
      "0.17826535033036173\n",
      "0.7109533380170536\n"
     ]
    }
   ],
   "source": [
    "print(model2.best_params_)\n",
    "print(model2.best_score_)\n",
    "print(model2.score(X_train_scaled, y1_train))"
   ]
  },
  {
   "cell_type": "code",
   "execution_count": null,
   "metadata": {},
   "outputs": [
    {
     "data": {
      "image/png": "[encoded data removed]",
      "text/plain": [
       "<Figure size 640x480 with 2 Axes>"
      ]
     },
     "metadata": {},
     "output_type": "display_data"
    }
   ],
   "source": [
    "table = pd.pivot_table(pd.DataFrame(model2.cv_results_),\n",
    "    values='mean_test_score', index='param_n_estimators', \n",
    "                       columns='param_min_samples_split')\n",
    "     \n",
    "sns.heatmap(table)\n",
    "plt.show()"
   ]
  },
  {
   "cell_type": "code",
   "execution_count": null,
   "metadata": {},
   "outputs": [
    {
     "name": "stdout",
     "output_type": "stream",
     "text": [
      "Fitting 4 folds for each of 75 candidates, totalling 300 fits\n"
     ]
    },
    {
     "data": {
      "text/plain": [
       "GridSearchCV(cv=4, estimator=RandomForestRegressor(), n_jobs=-1,\n",
       "             param_grid={'criterion': ['squared_error'], 'max_depth': [None],\n",
       "                         'max_features': ['auto'],\n",
       "                         'min_samples_leaf': [6, 7, 8, 9, 10],\n",
       "                         'min_samples_split': [4, 7, 10],\n",
       "                         'n_estimators': [151, 201, 251, 301, 351]},\n",
       "             verbose=5)"
      ]
     },
     "execution_count": 64,
     "metadata": {},
     "output_type": "execute_result"
    }
   ],
   "source": [
    "# grid_search3 = {\n",
    "#     'criterion': [ 'squared_error' ],\n",
    "#     'max_depth': [ None ],\n",
    "#     'max_features': [ 'auto' ],\n",
    "#     'min_samples_leaf': [8, 9, 10],\n",
    "#     'min_samples_split': [ 8, 9, 10, 11],\n",
    "#     'n_estimators': list(np.linspace(200, 400, 10, dtype = int))\n",
    "# }\n",
    "# model3 = GridSearchCV(estimator = reg, param_grid = grid_search2,  \n",
    "#                                cv = 4, verbose= 5, n_jobs = -1)\n",
    "# model3.fit(X_train_scaled,y1_train)"
   ]
  },
  {
   "cell_type": "code",
   "execution_count": 80,
   "metadata": {},
   "outputs": [
    {
     "name": "stdout",
     "output_type": "stream",
     "text": [
      "rsquared:\t0.708\n",
      "Mean squared error:\t0.000508\n",
      "Mean absolute error:\t0.0169\n",
      "rsquared:\t0.189\n",
      "Mean squared error:\t0.001439\n",
      "Mean absolute error:\t0.0292\n"
     ]
    }
   ],
   "source": [
    "reg = RandomForestRegressor(**model2.best_params_)\n",
    "tree1 = model_train(reg, X_train, y1_train, preprocessor=preprocessor)\n",
    "\n",
    "print(scores(tree1, X_test, y1_test))"
   ]
  },
  {
   "cell_type": "markdown",
   "metadata": {},
   "source": [
    "## Ridge Regression Parameter Tuning"
   ]
  },
  {
   "cell_type": "code",
   "execution_count": 119,
   "metadata": {},
   "outputs": [
    {
     "data": {
      "text/plain": [
       "RandomizedSearchCV(cv=4, estimator=Ridge(), n_iter=80,\n",
       "                   param_distributions={'alpha': array([1.00000000e-05, 1.59985872e-05, 2.55954792e-05, 4.09491506e-05,\n",
       "       6.55128557e-05, 1.04811313e-04, 1.67683294e-04, 2.68269580e-04,\n",
       "       4.29193426e-04, 6.86648845e-04, 1.09854114e-03, 1.75751062e-03,\n",
       "       2.81176870e-03, 4.49843267e-03, 7.19685673e-03, 1.15139540e-02,\n",
       "       1.84206997e-02, 2.94705...\n",
       "       3.39322177e+01, 5.42867544e+01, 8.68511374e+01, 1.38949549e+02,\n",
       "       2.22299648e+02, 3.55648031e+02, 5.68986603e+02, 9.10298178e+02,\n",
       "       1.45634848e+03, 2.32995181e+03, 3.72759372e+03, 5.96362332e+03,\n",
       "       9.54095476e+03, 1.52641797e+04, 2.44205309e+04, 3.90693994e+04,\n",
       "       6.25055193e+04, 1.00000000e+05]),\n",
       "                                        'fit_intercept': [True, False],\n",
       "                                        'solver': ['auto', 'svd', 'cholesky',\n",
       "                                                   'lsqr', 'sparse_cg', 'sag',\n",
       "                                                   'saga']},\n",
       "                   random_state=101)"
      ]
     },
     "execution_count": 119,
     "metadata": {},
     "output_type": "execute_result"
    }
   ],
   "source": [
    "\n",
    "ridge_search = {\n",
    "    'alpha':np.logspace(-5, 5),\n",
    "    'fit_intercept': [ True, False ],\n",
    "    'solver': ['auto', 'svd', 'cholesky', 'lsqr', 'sparse_cg', 'sag', 'saga']\n",
    "}\n",
    "\n",
    "model = RandomizedSearchCV(estimator = Ridge(), param_distributions = ridge_search, n_iter = 80, \n",
    "                               cv = 4, random_state= 101)\n",
    "model.fit(X_train_scaled,y1_train)"
   ]
  },
  {
   "cell_type": "code",
   "execution_count": 120,
   "metadata": {},
   "outputs": [
    {
     "name": "stdout",
     "output_type": "stream",
     "text": [
      "{'solver': 'sag', 'fit_intercept': True, 'alpha': 138.9495494373139}\n",
      "0.18936991122644986\n",
      "0.23318723069802205\n"
     ]
    }
   ],
   "source": [
    "print(model.best_params_)\n",
    "print(model.best_score_)\n",
    "print(model.score(X_train_scaled, y1_train))"
   ]
  },
  {
   "cell_type": "code",
   "execution_count": 121,
   "metadata": {},
   "outputs": [
    {
     "data": {
      "image/png": "[encoded data removed]",
      "text/plain": [
       "<Figure size 640x480 with 2 Axes>"
      ]
     },
     "metadata": {},
     "output_type": "display_data"
    }
   ],
   "source": [
    "import seaborn as sns\n",
    "\n",
    "table = pd.pivot_table(pd.DataFrame(model.cv_results_),\n",
    "    values='mean_test_score', index='param_solver', \n",
    "                       columns='param_fit_intercept')\n",
    "     \n",
    "sns.heatmap(table)\n",
    "plt.show()"
   ]
  },
  {
   "cell_type": "code",
   "execution_count": 122,
   "metadata": {},
   "outputs": [
    {
     "data": {
      "text/plain": [
       "GridSearchCV(cv=4, estimator=Ridge(),\n",
       "             param_grid={'alpha': array([1.00000000e-01, 1.62377674e-01, 2.63665090e-01, 4.28133240e-01,\n",
       "       6.95192796e-01, 1.12883789e+00, 1.83298071e+00, 2.97635144e+00,\n",
       "       4.83293024e+00, 7.84759970e+00, 1.27427499e+01, 2.06913808e+01,\n",
       "       3.35981829e+01, 5.45559478e+01, 8.85866790e+01, 1.43844989e+02,\n",
       "       2.33572147e+02, 3.79269019e+02, 6.15848211e+02, 1.00000000e+03]),\n",
       "                         'fit_intercept': [True], 'solver': ['sag', 'saga']})"
      ]
     },
     "execution_count": 122,
     "metadata": {},
     "output_type": "execute_result"
    }
   ],
   "source": [
    "from sklearn.model_selection import GridSearchCV\n",
    "\n",
    "ridge_search2 = {\n",
    "    'alpha':np.logspace(-1, 3, 20),\n",
    "    'fit_intercept': [ True ],\n",
    "    'solver': ['sag', 'saga']\n",
    "}\n",
    "\n",
    "model1 = GridSearchCV(estimator = Ridge(), param_grid = ridge_search2,cv = 4)\n",
    "model1.fit(X_train_scaled,y1_train)"
   ]
  },
  {
   "cell_type": "code",
   "execution_count": 123,
   "metadata": {},
   "outputs": [
    {
     "name": "stdout",
     "output_type": "stream",
     "text": [
      "{'alpha': 233.57214690901213, 'fit_intercept': True, 'solver': 'sag'}\n",
      "0.19005803348974712\n",
      "0.22736099796153975\n"
     ]
    }
   ],
   "source": [
    "print(model1.best_params_)\n",
    "print(model1.best_score_)\n",
    "print(model1.score(X_train_scaled, y1_train))"
   ]
  },
  {
   "cell_type": "code",
   "execution_count": 124,
   "metadata": {},
   "outputs": [
    {
     "name": "stdout",
     "output_type": "stream",
     "text": [
      "rsquared:\t0.227\n",
      "Mean squared error:\t0.001303\n",
      "Mean absolute error:\t0.0281\n",
      "rsquared:\t0.176\n",
      "Mean squared error:\t0.001589\n",
      "Mean absolute error:\t0.0318\n"
     ]
    }
   ],
   "source": [
    "reg = Ridge(**model1.best_params_)\n",
    "ridge = model_train(reg, X_train, y1_train, preprocessor=preprocessor)\n",
    "\n",
    "print(scores(ridge, X_test, y1_test))"
   ]
  },
  {
   "cell_type": "markdown",
   "metadata": {},
   "source": [
    "## Feature importance"
   ]
  },
  {
   "cell_type": "code",
   "execution_count": 103,
   "metadata": {},
   "outputs": [
    {
     "ename": "AttributeError",
     "evalue": "'GridSearchCV' object has no attribute 'named_steps'",
     "output_type": "error",
     "traceback": [
      "\u001b[0;31m---------------------------------------------------------------------------\u001b[0m",
      "\u001b[0;31mAttributeError\u001b[0m                            Traceback (most recent call last)",
      "\u001b[0;32m<ipython-input-103-76ab3c9e7c74>\u001b[0m in \u001b[0;36m<module>\u001b[0;34m\u001b[0m\n\u001b[1;32m      1\u001b[0m \u001b[0mfeature_names\u001b[0m \u001b[0;34m=\u001b[0m \u001b[0mlist\u001b[0m\u001b[0;34m(\u001b[0m\u001b[0;34m)\u001b[0m\u001b[0;34m\u001b[0m\u001b[0;34m\u001b[0m\u001b[0m\n\u001b[0;32m----> 2\u001b[0;31m \u001b[0mfeature_names\u001b[0m\u001b[0;34m.\u001b[0m\u001b[0mextend\u001b[0m\u001b[0;34m(\u001b[0m\u001b[0mridge\u001b[0m\u001b[0;34m.\u001b[0m\u001b[0mnamed_steps\u001b[0m\u001b[0;34m[\u001b[0m\u001b[0;34m'preprocessor'\u001b[0m\u001b[0;34m]\u001b[0m\u001b[0;34m.\u001b[0m\u001b[0mtransformers_\u001b[0m\u001b[0;34m[\u001b[0m\u001b[0;36m0\u001b[0m\u001b[0;34m]\u001b[0m\u001b[0;34m[\u001b[0m\u001b[0;36m1\u001b[0m\u001b[0;34m]\u001b[0m\u001b[0;34m.\u001b[0m\u001b[0mnamed_steps\u001b[0m\u001b[0;34m[\u001b[0m\u001b[0;34m'onehot'\u001b[0m\u001b[0;34m]\u001b[0m\u001b[0;34m.\u001b[0m\u001b[0mget_feature_names_out\u001b[0m\u001b[0;34m(\u001b[0m\u001b[0;34m)\u001b[0m\u001b[0;34m)\u001b[0m\u001b[0;34m\u001b[0m\u001b[0;34m\u001b[0m\u001b[0m\n\u001b[0m\u001b[1;32m      3\u001b[0m \u001b[0mfeature_names\u001b[0m\u001b[0;34m.\u001b[0m\u001b[0mextend\u001b[0m\u001b[0;34m(\u001b[0m\u001b[0mridge\u001b[0m\u001b[0;34m.\u001b[0m\u001b[0mnamed_steps\u001b[0m\u001b[0;34m[\u001b[0m\u001b[0;34m'preprocessor'\u001b[0m\u001b[0;34m]\u001b[0m\u001b[0;34m.\u001b[0m\u001b[0mtransformers_\u001b[0m\u001b[0;34m[\u001b[0m\u001b[0;36m1\u001b[0m\u001b[0;34m]\u001b[0m\u001b[0;34m[\u001b[0m\u001b[0;36m1\u001b[0m\u001b[0;34m]\u001b[0m\u001b[0;34m.\u001b[0m\u001b[0mnamed_steps\u001b[0m\u001b[0;34m[\u001b[0m\u001b[0;34m'scaler'\u001b[0m\u001b[0;34m]\u001b[0m\u001b[0;34m.\u001b[0m\u001b[0mget_feature_names_out\u001b[0m\u001b[0;34m(\u001b[0m\u001b[0;34m)\u001b[0m\u001b[0;34m)\u001b[0m\u001b[0;34m\u001b[0m\u001b[0;34m\u001b[0m\u001b[0m\n",
      "\u001b[0;31mAttributeError\u001b[0m: 'GridSearchCV' object has no attribute 'named_steps'"
     ]
    }
   ],
   "source": [
    "feature_names = list()\n",
    "feature_names.extend(ridge.named_steps['preprocessor'].transformers_[0][1].named_steps['onehot'].get_feature_names_out())\n",
    "feature_names.extend(ridge.named_steps['preprocessor'].transformers_[1][1].named_steps['scaler'].get_feature_names_out())"
   ]
  },
  {
   "cell_type": "code",
   "execution_count": 126,
   "metadata": {},
   "outputs": [
    {
     "data": {
      "image/png": "[encoded data removed]",
      "text/plain": [
       "<Figure size 900x700 with 1 Axes>"
      ]
     },
     "metadata": {},
     "output_type": "display_data"
    }
   ],
   "source": [
    "coefs = pd.DataFrame(\n",
    "    ridge.named_steps['model'].coef_,\n",
    "    columns=['Coefficients'], index=feature_names\n",
    ")\n",
    "\n",
    "coefs['signs'] = np.sign(coefs.Coefficients)\n",
    "coefs['abs'] = np.abs(coefs.Coefficients)\n",
    "\n",
    "coefs = coefs.sort_values(by=['abs'], ascending=False)\n",
    "\n",
    "coefs_20 = coefs.iloc[0:20,:].sort_values(by=['Coefficients'])\n",
    "\n",
    "coefs_20.plot(y='Coefficients',kind='barh', figsize=(9, 7))\n",
    "plt.title('Effect on next season shooting')\n",
    "plt.axvline(x=0, color='.5')\n",
    "plt.subplots_adjust(left=.3)\n",
    "plt.show()"
   ]
  },
  {
   "cell_type": "markdown",
   "metadata": {},
   "source": []
  },
  {
   "cell_type": "markdown",
   "metadata": {},
   "source": [
    "## Feature reduction\n",
    "Let's see how only using the most important features affects model performance."
   ]
  },
  {
   "cell_type": "code",
   "execution_count": 127,
   "metadata": {},
   "outputs": [
    {
     "data": {
      "text/plain": [
       "Index(['FTr', 'AST', 'TEAM_ATL', 'FTA', '2P%', 'TEAM_OKC', 'TEAM_MIN',\n",
       "       'FTA_poss', 'G', 'STL_poss', 'STL%', 'GS', '3PA', 'eFG%', 'WS', 'OWS',\n",
       "       'TEAM_SAS', '3P', 'FT%', '3P%'],\n",
       "      dtype='object')"
      ]
     },
     "execution_count": 127,
     "metadata": {},
     "output_type": "execute_result"
    }
   ],
   "source": [
    "coefs_20.index"
   ]
  },
  {
   "cell_type": "code",
   "execution_count": 135,
   "metadata": {},
   "outputs": [
    {
     "name": "stdout",
     "output_type": "stream",
     "text": [
      "rsquared:\t0.238\n",
      "Mean squared error:\t0.001305\n",
      "Mean absolute error:\t0.0284\n",
      "rsquared:\t0.167\n",
      "Mean squared error:\t0.001540\n",
      "Mean absolute error:\t0.0308\n"
     ]
    }
   ],
   "source": [
    "from utils import scores\n",
    "\n",
    "subset = ['FTr', 'AST', 'FTA', '2P%',\n",
    "       'FTA_poss', 'G', 'STL_poss', 'STL%', 'GS', '3PA', 'eFG%', 'WS', 'OWS',\n",
    "       'TEAM', '3P', 'FT%', '3P%']\n",
    "\n",
    "# subset = ['FT%', '3P%','FTr','3P','G']\n",
    "\n",
    "pct = X[subset]\n",
    "\n",
    "\n",
    "lin = Ridge()\n",
    "\n",
    "x_train, x_test, y_train, y_test = train_test_split(pct, y1, random_state=4)\n",
    "\n",
    "pipe = pipeline(pct)\n",
    "\n",
    "# x_train_scaled = pipe.fit_transform(x_train)\n",
    "\n",
    "# lin.fit(x_train_scaled, y_train)\n",
    "\n",
    "model = model_train(lin, x_train, y_train, preprocessor=pipe)\n",
    "print(scores(model, x_test, y_test))\n",
    "# pct.select_dtypes(include=['object', 'bool']).columns\n",
    "\n",
    "# pipe"
   ]
  },
  {
   "cell_type": "markdown",
   "metadata": {},
   "source": [
    "## RERF"
   ]
  },
  {
   "cell_type": "code",
   "execution_count": 136,
   "metadata": {},
   "outputs": [
    {
     "name": "stdout",
     "output_type": "stream",
     "text": [
      "rsquared:\t0.209\n",
      "Mean squared error:\t0.001333\n",
      "Mean absolute error:\t0.0285\n",
      "rsquared:\t0.173\n",
      "Mean squared error:\t0.001596\n",
      "Mean absolute error:\t0.0317\n",
      "rsquared:\t0.071\n",
      "Mean squared error:\t0.001238\n",
      "Mean absolute error:\t0.0275\n"
     ]
    },
    {
     "data": {
      "text/plain": [
       "0.0016102717326332255"
      ]
     },
     "execution_count": 136,
     "metadata": {},
     "output_type": "execute_result"
    }
   ],
   "source": [
    "from sklearn.linear_model import Lasso\n",
    "from sklearn.metrics import r2_score, mean_squared_error, mean_absolute_error\n",
    "\n",
    "lasso = model_train(Lasso(), X_train, y1_train, preprocessor=preprocessor, param_grid=param_grid)\n",
    "\n",
    "print(scores(lasso, X_test, y1_test))\n",
    "\n",
    "X_p = lasso.predict(X_train)\n",
    "resid = y1_train - X_p  \n",
    "\n",
    "# X_train2 = X_train.assign(resid = resid)\n",
    "# resid = pd.DataFrame({'resid':resid, '3pt':X_train['3P%']})\n",
    "# resid = pd.DataFrame({'resid':resid})\n",
    "\n",
    "rf = Ridge()\n",
    "\n",
    "# rf.fit(resid, y1_train)\n",
    "rf = model_train(Ridge(), X_train, resid, preprocessor=pipeline(X_train))\n",
    "\n",
    "\n",
    "X_p_test = lasso.predict(X_test) + rf.predict(X_test)\n",
    "resid_test = y1_test - X_p_test\n",
    "# resid_test = np.array(resid_test).reshape(-1,1)\n",
    "# X_test2 = X_test.assign(resid=resid_test)\n",
    "# resid_test = pd.DataFrame({'resid':resid_test, '3pt':X_test['3P%']})\n",
    "\n",
    "# print(scores(rf, X_test2, y1_test))\n",
    "\n",
    "# pearsonr(X_p_test, y1_test)[0]**2\n",
    "# mean_squared_error(X_p_test, y1_test)\n"
   ]
  },
  {
   "cell_type": "code",
   "execution_count": null,
   "metadata": {},
   "outputs": [],
   "source": [
    "from sklearn.ensemble import GradientBoostingRegressor\n",
    "\n",
    "tree = model_train(GradientBoostingRegressor(), X_train, y1_train, preprocessor=preprocessor, param_grid=param_grid)\n",
    "print(scores(tree, X_test, y1_test))"
   ]
  }
 ],
 "metadata": {
  "interpreter": {
   "hash": "be6edde37a6fc54c3e82115312c1c05bb7d756105533cab5a4d7b6caba68005d"
  },
  "kernelspec": {
   "display_name": "Python 3.9.7 64-bit ('3pt': conda)",
   "language": "python",
   "name": "python3"
  },
  "language_info": {
   "codemirror_mode": {
    "name": "ipython",
    "version": 3
   },
   "file_extension": ".py",
   "mimetype": "text/x-python",
   "name": "python",
   "nbconvert_exporter": "python",
   "pygments_lexer": "ipython3",
   "version": "3.7.11"
  },
  "orig_nbformat": 4
 },
 "nbformat": 4,
 "nbformat_minor": 2
}
